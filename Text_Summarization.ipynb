{
  "cells": [
    {
      "cell_type": "markdown",
      "metadata": {
        "id": "view-in-github",
        "colab_type": "text"
      },
      "source": [
        "<a href=\"https://colab.research.google.com/github/miheerdeo/Transformer-for-text-summarization/blob/main/Text_Summarization.ipynb\" target=\"_parent\"><img src=\"https://colab.research.google.com/assets/colab-badge.svg\" alt=\"Open In Colab\"/></a>"
      ]
    },
    {
      "cell_type": "code",
      "execution_count": null,
      "metadata": {
        "id": "oG_m7zIFBFfv"
      },
      "outputs": [],
      "source": [
        "!pip install openpyxl  --quiet"
      ]
    },
    {
      "cell_type": "code",
      "execution_count": null,
      "metadata": {
        "id": "t_V6NXJmCR9t"
      },
      "outputs": [],
      "source": [
        "ENCODER_LEN = 100\n",
        "DECODER_LEN = 20\n",
        "BATCH_SIZE = 64\n",
        "BUFFER_SIZE = BATCH_SIZE*8"
      ]
    },
    {
      "cell_type": "code",
      "execution_count": null,
      "metadata": {
        "id": "XRTM84-HCSAo",
        "colab": {
          "base_uri": "https://localhost:8080/",
          "height": 423
        },
        "outputId": "e4088bed-cac7-4424-e80f-784b10a82ec4"
      },
      "outputs": [
        {
          "output_type": "execute_result",
          "data": {
            "text/plain": [
              "                                                Headline  \\\n",
              "0      4 ex-bank officials booked for cheating bank o...   \n",
              "1         Supreme Court to go paperless in 6 months: CJI   \n",
              "2      At least 3 killed, 30 injured in blast in Sylh...   \n",
              "3      Why has Reliance been barred from trading in f...   \n",
              "4      Was stopped from entering my own studio at Tim...   \n",
              "...                                                  ...   \n",
              "55099         Sensex loses 400 points to hit 52-week low   \n",
              "55100      China to inject $91 bn into the money markets   \n",
              "55101   Ghulam Ali set to make acting debut in Bollywood   \n",
              "55102       IS acknowledges death of Jihadi John: Report   \n",
              "55103        Cairn to seek $600 mn from India in damages   \n",
              "\n",
              "                                                   Short  \n",
              "0      The CBI on Saturday booked four former officia...  \n",
              "1      Chief Justice JS Khehar has said the Supreme C...  \n",
              "2      At least three people were killed, including a...  \n",
              "3      Mukesh Ambani-led Reliance Industries (RIL) wa...  \n",
              "4      TV news anchor Arnab Goswami has said he was t...  \n",
              "...                                                  ...  \n",
              "55099  Tracking weak cues from the Asian markets, the...  \n",
              "55100  Amid growing concerns about China&#39;s econom...  \n",
              "55101  Pakistani Ghazal singer Ghulam Ali will soon m...  \n",
              "55102  The Islamic State (IS) has acknowledged the de...  \n",
              "55103  UK-based oil firm Cairn Energy on Tuesday said...  \n",
              "\n",
              "[55104 rows x 2 columns]"
            ],
            "text/html": [
              "\n",
              "  <div id=\"df-9aca8a55-5839-417a-9177-fd3a2ed8583e\" class=\"colab-df-container\">\n",
              "    <div>\n",
              "<style scoped>\n",
              "    .dataframe tbody tr th:only-of-type {\n",
              "        vertical-align: middle;\n",
              "    }\n",
              "\n",
              "    .dataframe tbody tr th {\n",
              "        vertical-align: top;\n",
              "    }\n",
              "\n",
              "    .dataframe thead th {\n",
              "        text-align: right;\n",
              "    }\n",
              "</style>\n",
              "<table border=\"1\" class=\"dataframe\">\n",
              "  <thead>\n",
              "    <tr style=\"text-align: right;\">\n",
              "      <th></th>\n",
              "      <th>Headline</th>\n",
              "      <th>Short</th>\n",
              "    </tr>\n",
              "  </thead>\n",
              "  <tbody>\n",
              "    <tr>\n",
              "      <th>0</th>\n",
              "      <td>4 ex-bank officials booked for cheating bank o...</td>\n",
              "      <td>The CBI on Saturday booked four former officia...</td>\n",
              "    </tr>\n",
              "    <tr>\n",
              "      <th>1</th>\n",
              "      <td>Supreme Court to go paperless in 6 months: CJI</td>\n",
              "      <td>Chief Justice JS Khehar has said the Supreme C...</td>\n",
              "    </tr>\n",
              "    <tr>\n",
              "      <th>2</th>\n",
              "      <td>At least 3 killed, 30 injured in blast in Sylh...</td>\n",
              "      <td>At least three people were killed, including a...</td>\n",
              "    </tr>\n",
              "    <tr>\n",
              "      <th>3</th>\n",
              "      <td>Why has Reliance been barred from trading in f...</td>\n",
              "      <td>Mukesh Ambani-led Reliance Industries (RIL) wa...</td>\n",
              "    </tr>\n",
              "    <tr>\n",
              "      <th>4</th>\n",
              "      <td>Was stopped from entering my own studio at Tim...</td>\n",
              "      <td>TV news anchor Arnab Goswami has said he was t...</td>\n",
              "    </tr>\n",
              "    <tr>\n",
              "      <th>...</th>\n",
              "      <td>...</td>\n",
              "      <td>...</td>\n",
              "    </tr>\n",
              "    <tr>\n",
              "      <th>55099</th>\n",
              "      <td>Sensex loses 400 points to hit 52-week low</td>\n",
              "      <td>Tracking weak cues from the Asian markets, the...</td>\n",
              "    </tr>\n",
              "    <tr>\n",
              "      <th>55100</th>\n",
              "      <td>China to inject $91 bn into the money markets</td>\n",
              "      <td>Amid growing concerns about China&amp;#39;s econom...</td>\n",
              "    </tr>\n",
              "    <tr>\n",
              "      <th>55101</th>\n",
              "      <td>Ghulam Ali set to make acting debut in Bollywood</td>\n",
              "      <td>Pakistani Ghazal singer Ghulam Ali will soon m...</td>\n",
              "    </tr>\n",
              "    <tr>\n",
              "      <th>55102</th>\n",
              "      <td>IS acknowledges death of Jihadi John: Report</td>\n",
              "      <td>The Islamic State (IS) has acknowledged the de...</td>\n",
              "    </tr>\n",
              "    <tr>\n",
              "      <th>55103</th>\n",
              "      <td>Cairn to seek $600 mn from India in damages</td>\n",
              "      <td>UK-based oil firm Cairn Energy on Tuesday said...</td>\n",
              "    </tr>\n",
              "  </tbody>\n",
              "</table>\n",
              "<p>55104 rows × 2 columns</p>\n",
              "</div>\n",
              "    <div class=\"colab-df-buttons\">\n",
              "\n",
              "  <div class=\"colab-df-container\">\n",
              "    <button class=\"colab-df-convert\" onclick=\"convertToInteractive('df-9aca8a55-5839-417a-9177-fd3a2ed8583e')\"\n",
              "            title=\"Convert this dataframe to an interactive table.\"\n",
              "            style=\"display:none;\">\n",
              "\n",
              "  <svg xmlns=\"http://www.w3.org/2000/svg\" height=\"24px\" viewBox=\"0 -960 960 960\">\n",
              "    <path d=\"M120-120v-720h720v720H120Zm60-500h600v-160H180v160Zm220 220h160v-160H400v160Zm0 220h160v-160H400v160ZM180-400h160v-160H180v160Zm440 0h160v-160H620v160ZM180-180h160v-160H180v160Zm440 0h160v-160H620v160Z\"/>\n",
              "  </svg>\n",
              "    </button>\n",
              "\n",
              "  <style>\n",
              "    .colab-df-container {\n",
              "      display:flex;\n",
              "      gap: 12px;\n",
              "    }\n",
              "\n",
              "    .colab-df-convert {\n",
              "      background-color: #E8F0FE;\n",
              "      border: none;\n",
              "      border-radius: 50%;\n",
              "      cursor: pointer;\n",
              "      display: none;\n",
              "      fill: #1967D2;\n",
              "      height: 32px;\n",
              "      padding: 0 0 0 0;\n",
              "      width: 32px;\n",
              "    }\n",
              "\n",
              "    .colab-df-convert:hover {\n",
              "      background-color: #E2EBFA;\n",
              "      box-shadow: 0px 1px 2px rgba(60, 64, 67, 0.3), 0px 1px 3px 1px rgba(60, 64, 67, 0.15);\n",
              "      fill: #174EA6;\n",
              "    }\n",
              "\n",
              "    .colab-df-buttons div {\n",
              "      margin-bottom: 4px;\n",
              "    }\n",
              "\n",
              "    [theme=dark] .colab-df-convert {\n",
              "      background-color: #3B4455;\n",
              "      fill: #D2E3FC;\n",
              "    }\n",
              "\n",
              "    [theme=dark] .colab-df-convert:hover {\n",
              "      background-color: #434B5C;\n",
              "      box-shadow: 0px 1px 3px 1px rgba(0, 0, 0, 0.15);\n",
              "      filter: drop-shadow(0px 1px 2px rgba(0, 0, 0, 0.3));\n",
              "      fill: #FFFFFF;\n",
              "    }\n",
              "  </style>\n",
              "\n",
              "    <script>\n",
              "      const buttonEl =\n",
              "        document.querySelector('#df-9aca8a55-5839-417a-9177-fd3a2ed8583e button.colab-df-convert');\n",
              "      buttonEl.style.display =\n",
              "        google.colab.kernel.accessAllowed ? 'block' : 'none';\n",
              "\n",
              "      async function convertToInteractive(key) {\n",
              "        const element = document.querySelector('#df-9aca8a55-5839-417a-9177-fd3a2ed8583e');\n",
              "        const dataTable =\n",
              "          await google.colab.kernel.invokeFunction('convertToInteractive',\n",
              "                                                    [key], {});\n",
              "        if (!dataTable) return;\n",
              "\n",
              "        const docLinkHtml = 'Like what you see? Visit the ' +\n",
              "          '<a target=\"_blank\" href=https://colab.research.google.com/notebooks/data_table.ipynb>data table notebook</a>'\n",
              "          + ' to learn more about interactive tables.';\n",
              "        element.innerHTML = '';\n",
              "        dataTable['output_type'] = 'display_data';\n",
              "        await google.colab.output.renderOutput(dataTable, element);\n",
              "        const docLink = document.createElement('div');\n",
              "        docLink.innerHTML = docLinkHtml;\n",
              "        element.appendChild(docLink);\n",
              "      }\n",
              "    </script>\n",
              "  </div>\n",
              "\n",
              "\n",
              "<div id=\"df-08e96eb6-4691-4f80-b675-a8d3948ee8d5\">\n",
              "  <button class=\"colab-df-quickchart\" onclick=\"quickchart('df-08e96eb6-4691-4f80-b675-a8d3948ee8d5')\"\n",
              "            title=\"Suggest charts\"\n",
              "            style=\"display:none;\">\n",
              "\n",
              "<svg xmlns=\"http://www.w3.org/2000/svg\" height=\"24px\"viewBox=\"0 0 24 24\"\n",
              "     width=\"24px\">\n",
              "    <g>\n",
              "        <path d=\"M19 3H5c-1.1 0-2 .9-2 2v14c0 1.1.9 2 2 2h14c1.1 0 2-.9 2-2V5c0-1.1-.9-2-2-2zM9 17H7v-7h2v7zm4 0h-2V7h2v10zm4 0h-2v-4h2v4z\"/>\n",
              "    </g>\n",
              "</svg>\n",
              "  </button>\n",
              "\n",
              "<style>\n",
              "  .colab-df-quickchart {\n",
              "      --bg-color: #E8F0FE;\n",
              "      --fill-color: #1967D2;\n",
              "      --hover-bg-color: #E2EBFA;\n",
              "      --hover-fill-color: #174EA6;\n",
              "      --disabled-fill-color: #AAA;\n",
              "      --disabled-bg-color: #DDD;\n",
              "  }\n",
              "\n",
              "  [theme=dark] .colab-df-quickchart {\n",
              "      --bg-color: #3B4455;\n",
              "      --fill-color: #D2E3FC;\n",
              "      --hover-bg-color: #434B5C;\n",
              "      --hover-fill-color: #FFFFFF;\n",
              "      --disabled-bg-color: #3B4455;\n",
              "      --disabled-fill-color: #666;\n",
              "  }\n",
              "\n",
              "  .colab-df-quickchart {\n",
              "    background-color: var(--bg-color);\n",
              "    border: none;\n",
              "    border-radius: 50%;\n",
              "    cursor: pointer;\n",
              "    display: none;\n",
              "    fill: var(--fill-color);\n",
              "    height: 32px;\n",
              "    padding: 0;\n",
              "    width: 32px;\n",
              "  }\n",
              "\n",
              "  .colab-df-quickchart:hover {\n",
              "    background-color: var(--hover-bg-color);\n",
              "    box-shadow: 0 1px 2px rgba(60, 64, 67, 0.3), 0 1px 3px 1px rgba(60, 64, 67, 0.15);\n",
              "    fill: var(--button-hover-fill-color);\n",
              "  }\n",
              "\n",
              "  .colab-df-quickchart-complete:disabled,\n",
              "  .colab-df-quickchart-complete:disabled:hover {\n",
              "    background-color: var(--disabled-bg-color);\n",
              "    fill: var(--disabled-fill-color);\n",
              "    box-shadow: none;\n",
              "  }\n",
              "\n",
              "  .colab-df-spinner {\n",
              "    border: 2px solid var(--fill-color);\n",
              "    border-color: transparent;\n",
              "    border-bottom-color: var(--fill-color);\n",
              "    animation:\n",
              "      spin 1s steps(1) infinite;\n",
              "  }\n",
              "\n",
              "  @keyframes spin {\n",
              "    0% {\n",
              "      border-color: transparent;\n",
              "      border-bottom-color: var(--fill-color);\n",
              "      border-left-color: var(--fill-color);\n",
              "    }\n",
              "    20% {\n",
              "      border-color: transparent;\n",
              "      border-left-color: var(--fill-color);\n",
              "      border-top-color: var(--fill-color);\n",
              "    }\n",
              "    30% {\n",
              "      border-color: transparent;\n",
              "      border-left-color: var(--fill-color);\n",
              "      border-top-color: var(--fill-color);\n",
              "      border-right-color: var(--fill-color);\n",
              "    }\n",
              "    40% {\n",
              "      border-color: transparent;\n",
              "      border-right-color: var(--fill-color);\n",
              "      border-top-color: var(--fill-color);\n",
              "    }\n",
              "    60% {\n",
              "      border-color: transparent;\n",
              "      border-right-color: var(--fill-color);\n",
              "    }\n",
              "    80% {\n",
              "      border-color: transparent;\n",
              "      border-right-color: var(--fill-color);\n",
              "      border-bottom-color: var(--fill-color);\n",
              "    }\n",
              "    90% {\n",
              "      border-color: transparent;\n",
              "      border-bottom-color: var(--fill-color);\n",
              "    }\n",
              "  }\n",
              "</style>\n",
              "\n",
              "  <script>\n",
              "    async function quickchart(key) {\n",
              "      const quickchartButtonEl =\n",
              "        document.querySelector('#' + key + ' button');\n",
              "      quickchartButtonEl.disabled = true;  // To prevent multiple clicks.\n",
              "      quickchartButtonEl.classList.add('colab-df-spinner');\n",
              "      try {\n",
              "        const charts = await google.colab.kernel.invokeFunction(\n",
              "            'suggestCharts', [key], {});\n",
              "      } catch (error) {\n",
              "        console.error('Error during call to suggestCharts:', error);\n",
              "      }\n",
              "      quickchartButtonEl.classList.remove('colab-df-spinner');\n",
              "      quickchartButtonEl.classList.add('colab-df-quickchart-complete');\n",
              "    }\n",
              "    (() => {\n",
              "      let quickchartButtonEl =\n",
              "        document.querySelector('#df-08e96eb6-4691-4f80-b675-a8d3948ee8d5 button');\n",
              "      quickchartButtonEl.style.display =\n",
              "        google.colab.kernel.accessAllowed ? 'block' : 'none';\n",
              "    })();\n",
              "  </script>\n",
              "</div>\n",
              "    </div>\n",
              "  </div>\n"
            ],
            "application/vnd.google.colaboratory.intrinsic+json": {
              "type": "dataframe",
              "variable_name": "news",
              "summary": "{\n  \"name\": \"news\",\n  \"rows\": 55104,\n  \"fields\": [\n    {\n      \"column\": \"Headline\",\n      \"properties\": {\n        \"dtype\": \"string\",\n        \"num_unique_values\": 54940,\n        \"samples\": [\n          \"Happy to be back with Salman for Tiger Zinda Hai: Kaif\",\n          \" Lawsuit claims Oculus Co-founder spread fake origin story\",\n          \"Gambhir only Indian to make 100s in 5 straight Tests\"\n        ],\n        \"semantic_type\": \"\",\n        \"description\": \"\"\n      }\n    },\n    {\n      \"column\": \"Short\",\n      \"properties\": {\n        \"dtype\": \"string\",\n        \"num_unique_values\": 54997,\n        \"samples\": [\n          \"An Australian couple who own a tropical island resort in Micronesia has decided to give it away in lottery rather than sell it to the highest bidder. The lottery kicked off in April, and so far 55,500 people from 150 countries have bought tickets which start from $49. The lottery for the 16-bed resort will be drawn on Tuesday.   \",\n          \"Over 200 rail accidents out of 292, from 2012-13 to January 2016, were caused due to the failure of railway staff as per the data of the Railway Ministry. The data suggested that action was being taken against 542 employees for their negligence and penalties were imposed in over 500 cases based on investigations by Commission of Railway Safety (CRS). the Railway Ministry Commission of Railway Safety (CRS) the Railway Ministry Commission of Railway Safety (CRS) the Railway Ministry Commission of Railway Safety (CRS)\",\n          \"A 1400-km long optical fibre cable has been built connecting the two most precise optical atomic clocks in Europe, located in Germany and France. This marks the first and most accurate comparison of atomic clocks across national borders, a feat that may allow time-sensitive scientific experiments like observing changes in the values of fundamental physical constants over time.   \"\n        ],\n        \"semantic_type\": \"\",\n        \"description\": \"\"\n      }\n    }\n  ]\n}"
            }
          },
          "metadata": {},
          "execution_count": 40
        }
      ],
      "source": [
        "import pandas as pd\n",
        "\n",
        "news = pd.read_csv(\"/content/NER_Modified_final.csv\")\n",
        "\n",
        "news\n",
        "\n"
      ]
    },
    {
      "cell_type": "code",
      "source": [
        "first_headline = news.iloc[3]['Short']\n",
        "\n",
        "print(first_headline)"
      ],
      "metadata": {
        "colab": {
          "base_uri": "https://localhost:8080/"
        },
        "id": "wrTjhYLG_iSL",
        "outputId": "a978fdc1-ebbe-499a-deec-a2e6892e4081"
      },
      "execution_count": null,
      "outputs": [
        {
          "output_type": "stream",
          "name": "stdout",
          "text": [
            "Mukesh Ambani-led Reliance Industries (RIL) was barred from trading in futures market for a year over stake sale in Reliance Petroleum (RPL). In 2007, RIL sold 4.1% stake in RPL, but shares were first &#39;short-sold&#39; in futures market to avoid a fall in RPL stocks. Short sale means selling shares with plans to buy them back later at lower prices. Reliance Industries Mukesh Ambani-led Reliance Petroleum RIL RPL first &#39;short Reliance Industries Mukesh Ambani-led Reliance Petroleum RIL RPL first &#39;short Reliance Industries Mukesh Ambani-led Reliance Petroleum RIL RPL first &#39;short\n"
          ]
        }
      ]
    },
    {
      "cell_type": "code",
      "execution_count": null,
      "metadata": {
        "id": "1Pew3dC7CSDR"
      },
      "outputs": [],
      "source": [
        "article = news['Short']\n",
        "summary = news['Headline']\n",
        "article = article.apply(lambda x: '<SOS> ' + x + ' <EOS>')\n",
        "summary = summary.apply(lambda x: '<SOS> ' + x + ' <EOS>')#Needed for decoder starts generation from <SOS> and <EOS>"
      ]
    },
    {
      "cell_type": "code",
      "execution_count": null,
      "metadata": {
        "id": "e3wseeEYCSGh"
      },
      "outputs": [],
      "source": [
        "def preprocess(text):\n",
        "    text = re.sub(r\"&.[1-9]+;\",\" \",text)\n",
        "    return text\n",
        "article = article.apply(lambda x: preprocess(x))\n",
        "summary = summary.apply(lambda x: preprocess(x))"
      ]
    },
    {
      "cell_type": "code",
      "execution_count": null,
      "metadata": {
        "id": "8Em7pVkLCSJR"
      },
      "outputs": [],
      "source": [
        "filters = '!\"#$%&()*+,-./:;=?@[\\\\]^_`{|}~\\t\\n'\n",
        "oov_token = '<unk>'\n",
        "article_tokenizer = tf.keras.preprocessing.text.Tokenizer(oov_token=oov_token)\n",
        "summary_tokenizer = tf.keras.preprocessing.text.Tokenizer(filters=filters, oov_token=oov_token)\n",
        "article_tokenizer.fit_on_texts(article)\n",
        "summary_tokenizer.fit_on_texts(summary)\n",
        "inputs = article_tokenizer.texts_to_sequences(article)\n",
        "targets = summary_tokenizer.texts_to_sequences(summary)"
      ]
    },
    {
      "cell_type": "code",
      "execution_count": null,
      "metadata": {
        "id": "CxMdbUmNCSMG",
        "colab": {
          "base_uri": "https://localhost:8080/"
        },
        "outputId": "d35bb148-9246-4254-86d6-097d76dd483a"
      },
      "outputs": [
        {
          "output_type": "stream",
          "name": "stdout",
          "text": [
            "76425 29661\n"
          ]
        }
      ],
      "source": [
        "ENCODER_VOCAB = len(article_tokenizer.word_index) + 1\n",
        "DECODER_VOCAB = len(summary_tokenizer.word_index) + 1\n",
        "print(ENCODER_VOCAB, DECODER_VOCAB)"
      ]
    },
    {
      "cell_type": "code",
      "execution_count": null,
      "metadata": {
        "id": "zF6YTf15CSPF"
      },
      "outputs": [],
      "source": [
        "inputs = tf.keras.preprocessing.sequence.pad_sequences(inputs, maxlen=ENCODER_LEN, padding='post', truncating='post')\n",
        "targets = tf.keras.preprocessing.sequence.pad_sequences(targets, maxlen=DECODER_LEN, padding='post', truncating='post')\n",
        "inputs = tf.cast(inputs, dtype=tf.int64)\n",
        "targets = tf.cast(targets, dtype=tf.int64)"
      ]
    },
    {
      "cell_type": "code",
      "execution_count": null,
      "metadata": {
        "id": "neNQhTW1CSR1"
      },
      "outputs": [],
      "source": [
        "dataset = tf.data.Dataset.from_tensor_slices((inputs, targets)).shuffle(BUFFER_SIZE).batch(BATCH_SIZE)"
      ]
    },
    {
      "cell_type": "code",
      "execution_count": null,
      "metadata": {
        "id": "43oaZebaCSUm"
      },
      "outputs": [],
      "source": [
        "def get_angles(position, i, d_model):\n",
        "    angle_rates = 1 / np.power(10000, (2 * (i // 2)) / np.float32(d_model))\n",
        "    return position * angle_rates\n",
        "\n",
        "def positional_encoding(position, d_model):\n",
        "    angle_rads = get_angles(\n",
        "        np.arange(position)[:, np.newaxis],\n",
        "        np.arange(d_model)[np.newaxis, :],\n",
        "        d_model\n",
        "    )\n",
        "\n",
        "    angle_rads[:, 0::2] = np.sin(angle_rads[:, 0::2])\n",
        "\n",
        "    angle_rads[:, 1::2] = np.cos(angle_rads[:, 1::2])\n",
        "\n",
        "    pos_encoding = angle_rads[np.newaxis, ...]\n",
        "\n",
        "    return tf.cast(pos_encoding, dtype=tf.float32)\n",
        "\n",
        "def create_padding_mask(seq):\n",
        "    seq = tf.cast(tf.math.equal(seq, 0), tf.float32)\n",
        "    return seq[:, tf.newaxis, tf.newaxis, :]\n",
        "\n",
        "def create_look_ahead_mask(size):\n",
        "    mask = 1 - tf.linalg.band_part(tf.ones((size, size)), -1, 0)\n",
        "    return mask\n",
        "\n",
        "def scaled_dot_product_attention(q, k, v, mask):\n",
        "    matmul_qk = tf.matmul(q, k, transpose_b=True)\n",
        "\n",
        "    dk = tf.cast(tf.shape(k)[-1], tf.float32)\n",
        "    scaled_attention_logits = matmul_qk / tf.math.sqrt(dk)\n",
        "\n",
        "    if mask is not None:\n",
        "       scaled_attention_logits += (mask * -1e6)\n",
        "\n",
        "    attention_weights = tf.nn.softmax(scaled_attention_logits, axis=-1)\n",
        "\n",
        "    output = tf.matmul(attention_weights, v)\n",
        "    return output, attention_weights\n"
      ]
    },
    {
      "cell_type": "code",
      "execution_count": null,
      "metadata": {
        "id": "7fJm7nXLCSXh"
      },
      "outputs": [],
      "source": [
        "class MultiHeadAttention(tf.keras.layers.Layer):\n",
        "    def __init__(self, d_model, num_heads):\n",
        "        super(MultiHeadAttention, self).__init__()\n",
        "        self.num_heads = num_heads\n",
        "        self.d_model = d_model\n",
        "\n",
        "        assert d_model % self.num_heads == 0\n",
        "\n",
        "        self.depth = d_model // self.num_heads\n",
        "\n",
        "        self.wq = tf.keras.layers.Dense(d_model)\n",
        "        self.wk = tf.keras.layers.Dense(d_model)\n",
        "        self.wv = tf.keras.layers.Dense(d_model)\n",
        "\n",
        "        self.dense = tf.keras.layers.Dense(d_model)\n",
        "\n",
        "    def split_heads(self, x, batch_size):\n",
        "        x = tf.reshape(x, (batch_size, -1, self.num_heads, self.depth))\n",
        "        return tf.transpose(x, perm=[0, 2, 1, 3])\n",
        "\n",
        "    def call(self, v, k, q, mask):\n",
        "        batch_size = tf.shape(q)[0]\n",
        "\n",
        "        q = self.wq(q)\n",
        "        k = self.wk(k)\n",
        "        v = self.wv(v)\n",
        "\n",
        "        q = self.split_heads(q, batch_size)\n",
        "        k = self.split_heads(k, batch_size)\n",
        "        v = self.split_heads(v, batch_size)\n",
        "\n",
        "        scaled_attention, attention_weights = scaled_dot_product_attention(\n",
        "            q, k, v, mask)\n",
        "\n",
        "        scaled_attention = tf.transpose(scaled_attention, perm=[0, 2, 1, 3])\n",
        "\n",
        "        concat_attention = tf.reshape(scaled_attention, (batch_size, -1, self.d_model))\n",
        "        output = self.dense(concat_attention)\n",
        "        return output, attention_weights\n",
        "\n",
        "def point_wise_feed_forward_network(d_model, dff):\n",
        "    return tf.keras.Sequential([\n",
        "        tf.keras.layers.Dense(dff, activation='relu'),\n",
        "        tf.keras.layers.Dense(d_model)\n",
        "    ])\n"
      ]
    },
    {
      "cell_type": "code",
      "execution_count": null,
      "metadata": {
        "id": "JNAmXW5-CSaZ"
      },
      "outputs": [],
      "source": [
        "class EncoderLayer(tf.keras.layers.Layer):\n",
        "    def __init__(self, d_model, num_heads, dff, rate=0.1):\n",
        "        super(EncoderLayer, self).__init__()\n",
        "\n",
        "        self.mha = MultiHeadAttention(d_model, num_heads)\n",
        "        self.ffn = point_wise_feed_forward_network(d_model, dff)\n",
        "\n",
        "        self.layernorm1 = tf.keras.layers.LayerNormalization(epsilon=1e-6)\n",
        "        self.layernorm2 = tf.keras.layers.LayerNormalization(epsilon=1e-6)\n",
        "\n",
        "        self.dropout1 = tf.keras.layers.Dropout(rate)\n",
        "        self.dropout2 = tf.keras.layers.Dropout(rate)\n",
        "\n",
        "    def call(self, x, training, mask):\n",
        "        attn_output, _ = self.mha(x, x, x, mask)\n",
        "        attn_output = self.dropout1(attn_output, training=training)\n",
        "        out1 = self.layernorm1(x + attn_output)\n",
        "\n",
        "        ffn_output = self.ffn(out1)\n",
        "        ffn_output = self.dropout2(ffn_output, training=training)\n",
        "        out2 = self.layernorm2(out1 + ffn_output)\n",
        "\n",
        "        return out2"
      ]
    },
    {
      "cell_type": "code",
      "execution_count": null,
      "metadata": {
        "id": "D_DUDxMBCSdN"
      },
      "outputs": [],
      "source": [
        "class DecoderLayer(tf.keras.layers.Layer):\n",
        "    def __init__(self, d_model, num_heads, dff, rate=0.1):\n",
        "        super(DecoderLayer, self).__init__()\n",
        "\n",
        "        self.mha1 = MultiHeadAttention(d_model, num_heads)\n",
        "        self.mha2 = MultiHeadAttention(d_model, num_heads)\n",
        "\n",
        "        self.ffn = point_wise_feed_forward_network(d_model, dff)\n",
        "\n",
        "        self.layernorm1 = tf.keras.layers.LayerNormalization(epsilon=1e-6)\n",
        "        self.layernorm2 = tf.keras.layers.LayerNormalization(epsilon=1e-6)\n",
        "        self.layernorm3 = tf.keras.layers.LayerNormalization(epsilon=1e-6)\n",
        "\n",
        "        self.dropout1 = tf.keras.layers.Dropout(rate)\n",
        "        self.dropout2 = tf.keras.layers.Dropout(rate)\n",
        "        self.dropout3 = tf.keras.layers.Dropout(rate)\n",
        "\n",
        "\n",
        "    def call(self, x, enc_output, training, look_ahead_mask, padding_mask):\n",
        "        attn1, attn_weights_block1 = self.mha1(x, x, x, look_ahead_mask)\n",
        "        attn1 = self.dropout1(attn1, training=training)\n",
        "        out1 = self.layernorm1(attn1 + x)\n",
        "\n",
        "        attn2, attn_weights_block2 = self.mha2(enc_output, enc_output, out1, padding_mask)# Cross attention\n",
        "        attn2 = self.dropout2(attn2, training=training)\n",
        "        out2 = self.layernorm2(attn2 + out1)\n",
        "\n",
        "        ffn_output = self.ffn(out2)\n",
        "        ffn_output = self.dropout3(ffn_output, training=training)\n",
        "        out3 = self.layernorm3(ffn_output + out2)\n",
        "\n",
        "        return out3, attn_weights_block1, attn_weights_block2\n"
      ]
    },
    {
      "cell_type": "code",
      "execution_count": null,
      "metadata": {
        "id": "0lgH4GkKCSf3"
      },
      "outputs": [],
      "source": [
        "class Encoder(tf.keras.layers.Layer):\n",
        "    def __init__(self, num_layers, d_model, num_heads, dff, input_vocab_size, maximum_position_encoding, rate=0.1):\n",
        "        super(Encoder, self).__init__()\n",
        "\n",
        "        self.d_model = d_model\n",
        "        self.num_layers = num_layers\n",
        "\n",
        "        self.embedding = tf.keras.layers.Embedding(input_vocab_size, d_model)\n",
        "        self.pos_encoding = positional_encoding(maximum_position_encoding, self.d_model) #maximum length of sequences\n",
        "\n",
        "        self.enc_layers = [EncoderLayer(d_model, num_heads, dff, rate) for _ in range(num_layers)]\n",
        "\n",
        "        self.dropout = tf.keras.layers.Dropout(rate)\n",
        "\n",
        "    def call(self, x, training, mask):\n",
        "        seq_len = tf.shape(x)[1]\n",
        "\n",
        "        x = self.embedding(x)\n",
        "        x *= tf.math.sqrt(tf.cast(self.d_model, tf.float32))\n",
        "        x += self.pos_encoding[:, :seq_len, :]\n",
        "\n",
        "        x = self.dropout(x, training=training)\n",
        "\n",
        "        for i in range(self.num_layers):\n",
        "            x = self.enc_layers[i](x, training, mask)\n",
        "\n",
        "        return x\n"
      ]
    },
    {
      "cell_type": "code",
      "execution_count": null,
      "metadata": {
        "id": "1TE7ABdhCSjZ"
      },
      "outputs": [],
      "source": [
        "class Decoder(tf.keras.layers.Layer):\n",
        "    def __init__(self, num_layers, d_model, num_heads, dff, target_vocab_size, maximum_position_encoding, rate=0.1):\n",
        "        super(Decoder, self).__init__()\n",
        "\n",
        "        self.d_model = d_model\n",
        "        self.num_layers = num_layers\n",
        "\n",
        "        self.embedding = tf.keras.layers.Embedding(target_vocab_size, d_model) #Creates an embedding layer for the decoder's target vocabulary.\n",
        "        self.pos_encoding = positional_encoding(maximum_position_encoding, d_model)\n",
        "\n",
        "        self.dec_layers = [DecoderLayer(d_model, num_heads, dff, rate) for _ in range(num_layers)]\n",
        "        self.dropout = tf.keras.layers.Dropout(rate)\n",
        "\n",
        "    def call(self, x, enc_output, training, look_ahead_mask, padding_mask):\n",
        "        seq_len = tf.shape(x)[1]\n",
        "        attention_weights = {}\n",
        "\n",
        "        x = self.embedding(x) #Converts target token IDs to dense vectors.\n",
        "        x *= tf.math.sqrt(tf.cast(self.d_model, tf.float32))\n",
        "        x += self.pos_encoding[:, :seq_len, :]\n",
        "\n",
        "        x = self.dropout(x, training=training)\n",
        "\n",
        "        for i in range(self.num_layers):\n",
        "            x, block1, block2 = self.dec_layers[i](x, enc_output, training, look_ahead_mask, padding_mask)\n",
        "\n",
        "            attention_weights['decoder_layer{}_block1'.format(i+1)] = block1\n",
        "            attention_weights['decoder_layer{}_block2'.format(i+1)] = block2\n",
        "\n",
        "        return x, attention_weights\n"
      ]
    },
    {
      "cell_type": "code",
      "execution_count": null,
      "metadata": {
        "id": "X3hU1ivECSl_"
      },
      "outputs": [],
      "source": [
        "class Transformer(tf.keras.Model):\n",
        "    def __init__(self, num_layers, d_model, num_heads, dff, input_vocab_size, target_vocab_size, pe_input, pe_target, rate=0.1):\n",
        "        super(Transformer, self).__init__()\n",
        "\n",
        "        self.encoder = Encoder(num_layers, d_model, num_heads, dff, input_vocab_size, pe_input, rate)\n",
        "\n",
        "        self.decoder = Decoder(num_layers, d_model, num_heads, dff, target_vocab_size, pe_target, rate)\n",
        "\n",
        "        self.final_layer = tf.keras.layers.Dense(target_vocab_size)\n",
        "\n",
        "    def call(self, inp, tar, training, enc_padding_mask, look_ahead_mask, dec_padding_mask):\n",
        "        enc_output = self.encoder(inp, training, enc_padding_mask)\n",
        "\n",
        "        dec_output, attention_weights = self.decoder(tar, enc_output, training, look_ahead_mask, dec_padding_mask)\n",
        "\n",
        "        final_output = self.final_layer(dec_output)\n",
        "\n",
        "        return final_output, attention_weights"
      ]
    },
    {
      "cell_type": "code",
      "execution_count": null,
      "metadata": {
        "id": "FhBvffnRCSp0"
      },
      "outputs": [],
      "source": [
        "d_model = 512  #128\n",
        "dff = 1024      #512\n",
        "num_heads = 8   #4\n",
        "dropout_rate = 0.2\n",
        "EPOCHS = 15"
      ]
    },
    {
      "cell_type": "code",
      "execution_count": null,
      "metadata": {
        "id": "L6EVSOvrGV29"
      },
      "outputs": [],
      "source": [
        "learning_rate = CustomSchedule(d_model)\n",
        "optimizer = tf.keras.optimizers.Adam(learning_rate, beta_1=0.9, beta_2=0.98, epsilon=1e-9)\n"
      ]
    },
    {
      "cell_type": "code",
      "execution_count": null,
      "metadata": {
        "id": "g3XtAGROGVxg"
      },
      "outputs": [],
      "source": [
        "import tensorflow as tf\n",
        "\n",
        "# Assuming `real` and `pred` are tensors of shape (batch_size, max_length, num_classes)\n",
        "\n",
        "def loss_function(real, pred):\n",
        "    loss_object = tf.keras.losses.SparseCategoricalCrossentropy(from_logits=True, reduction='none')\n",
        "    loss_ = loss_object(real, pred)\n",
        "    mask = tf.cast(mask, dtype=loss_.dtype)\n",
        "    loss_ *= mask\n",
        "    return tf.reduce_sum(loss_)/tf.reduce_sum(mask)\n",
        "\n",
        "def accuracy_function(real, pred):\n",
        "    accuracies = tf.equal(real, tf.argmax(pred, axis=2))\n",
        "    mask = tf.math.logical_not(tf.math.equal(real, 0))\n",
        "    accuracies = tf.math.logical_and(mask, accuracies)\n",
        "    accuracies = tf.cast(accuracies, dtype=tf.float32)\n",
        "    mask = tf.cast(mask, dtype=tf.float32)\n",
        "    return tf.reduce_sum(accuracies)/tf.reduce_sum(mask)\n"
      ]
    },
    {
      "cell_type": "code",
      "execution_count": null,
      "metadata": {
        "id": "DAvBKHggGVvC"
      },
      "outputs": [],
      "source": [
        "train_loss = tf.keras.metrics.Mean(name='train_loss')\n",
        "train_accuracy = tf.keras.metrics.Mean(name='train_accuracy')"
      ]
    },
    {
      "cell_type": "code",
      "execution_count": null,
      "metadata": {
        "id": "8ARjvA-yGVsE"
      },
      "outputs": [],
      "source": [
        "transformer = Transformer(\n",
        "    num_layers=num_layers,\n",
        "    d_model=d_model,\n",
        "    num_heads=num_heads,\n",
        "    dff=dff,\n",
        "    input_vocab_size=ENCODER_VOCAB,\n",
        "    target_vocab_size=DECODER_VOCAB,\n",
        "    pe_input=1000,\n",
        "    pe_target=1000,\n",
        "    rate=dropout_rate)"
      ]
    },
    {
      "cell_type": "code",
      "execution_count": null,
      "metadata": {
        "id": "Q_2i13YVGVpN"
      },
      "outputs": [],
      "source": [
        "def create_masks(inp, tar):\n",
        "    enc_padding_mask = create_padding_mask(inp)\n",
        "    dec_padding_mask = create_padding_mask(inp)\n",
        "\n",
        "    look_ahead_mask = create_look_ahead_mask(tf.shape(tar)[1])\n",
        "    dec_target_padding_mask = create_padding_mask(tar)\n",
        "    combined_mask = tf.maximum(dec_target_padding_mask, look_ahead_mask)\n",
        "\n",
        "    return enc_padding_mask, combined_mask, dec_padding_mask"
      ]
    },
    {
      "cell_type": "code",
      "execution_count": null,
      "metadata": {
        "id": "bIn6Jm5fGVmY",
        "colab": {
          "base_uri": "https://localhost:8080/"
        },
        "outputId": "45fa26de-af35-433e-84a7-c52ac09a7545"
      },
      "outputs": [
        {
          "output_type": "stream",
          "name": "stdout",
          "text": [
            "Latest checkpoint restored!!\n"
          ]
        }
      ],
      "source": [
        "checkpoint_path = \"checkpoints\"\n",
        "\n",
        "ckpt = tf.train.Checkpoint(transformer=transformer, optimizer=optimizer)\n",
        "\n",
        "ckpt_manager = tf.train.CheckpointManager(ckpt, checkpoint_path, max_to_keep=5)\n",
        "\n",
        "if ckpt_manager.latest_checkpoint:\n",
        "    ckpt.restore(ckpt_manager.latest_checkpoint)\n",
        "    print ('Latest checkpoint restored!!')"
      ]
    },
    {
      "cell_type": "code",
      "execution_count": null,
      "metadata": {
        "id": "Ia9j_8oIHLEn"
      },
      "outputs": [],
      "source": [
        "@tf.function\n",
        "def train_step(inp, tar):\n",
        "    tar_inp = tar[:, :-1]\n",
        "    tar_real = tar[:, 1:]\n",
        "\n",
        "    enc_padding_mask, combined_mask, dec_padding_mask = create_masks(inp, tar_inp)\n",
        "\n",
        "    with tf.GradientTape() as tape:\n",
        "        predictions, _ = transformer(\n",
        "            inp, tar_inp,\n",
        "            True,\n",
        "            enc_padding_mask,\n",
        "            combined_mask,\n",
        "            dec_padding_mask\n",
        "        )\n",
        "        loss = loss_function(tar_real, predictions)\n",
        "\n",
        "    gradients = tape.gradient(loss, transformer.trainable_variables)\n",
        "    optimizer.apply_gradients(zip(gradients, transformer.trainable_variables))\n",
        "\n",
        "    train_loss(loss)\n",
        "    train_accuracy(accuracy_function(tar_real, predictions))"
      ]
    },
    {
      "cell_type": "code",
      "execution_count": null,
      "metadata": {
        "colab": {
          "base_uri": "https://localhost:8080/"
        },
        "id": "6d7-JQDDHLBS",
        "outputId": "34984153-c5a0-4d78-fcc5-a9047f32bff6"
      },
      "outputs": [
        {
          "output_type": "stream",
          "name": "stdout",
          "text": [
            "Epoch 1 Batch 0 Loss 6.8731 Accuracy 0.1355\n",
            "Epoch 1 Batch 100 Loss 6.6127 Accuracy 0.1484\n",
            "Epoch 1 Batch 200 Loss 6.5308 Accuracy 0.1525\n",
            "Epoch 1 Batch 300 Loss 6.4570 Accuracy 0.1567\n",
            "Epoch 1 Batch 400 Loss 6.4135 Accuracy 0.1605\n",
            "Epoch 1 Batch 500 Loss 6.3663 Accuracy 0.1655\n",
            "Epoch 1 Batch 600 Loss 6.3214 Accuracy 0.1703\n",
            "Epoch 1 Batch 700 Loss 6.2676 Accuracy 0.1757\n",
            "Epoch 1 Batch 800 Loss 6.2092 Accuracy 0.1807\n",
            "Epoch 1 Loss 6.1709 Accuracy 0.1838\n",
            "Time taken for 1 epoch: 136.23011755943298 secs\n",
            "\n",
            "Epoch 2 Batch 0 Loss 6.5133 Accuracy 0.1838\n",
            "Epoch 2 Batch 100 Loss 6.0734 Accuracy 0.1833\n",
            "Epoch 2 Batch 200 Loss 5.9856 Accuracy 0.1839\n",
            "Epoch 2 Batch 300 Loss 5.9075 Accuracy 0.1855\n",
            "Epoch 2 Batch 400 Loss 5.8674 Accuracy 0.1872\n",
            "Epoch 2 Batch 500 Loss 5.8248 Accuracy 0.1896\n",
            "Epoch 2 Batch 600 Loss 5.7793 Accuracy 0.1926\n",
            "Epoch 2 Batch 700 Loss 5.7285 Accuracy 0.1960\n",
            "Epoch 2 Batch 800 Loss 5.6708 Accuracy 0.1997\n",
            "Saving checkpoint for epoch 2 at checkpoints/ckpt-2\n",
            "Epoch 2 Loss 5.6340 Accuracy 0.2020\n",
            "Time taken for 1 epoch: 67.17513394355774 secs\n",
            "\n",
            "Epoch 3 Batch 0 Loss 6.3053 Accuracy 0.2020\n",
            "Epoch 3 Batch 100 Loss 5.6004 Accuracy 0.2026\n",
            "Epoch 3 Batch 200 Loss 5.5115 Accuracy 0.2038\n",
            "Epoch 3 Batch 300 Loss 5.4362 Accuracy 0.2056\n",
            "Epoch 3 Batch 400 Loss 5.3984 Accuracy 0.2074\n",
            "Epoch 3 Batch 500 Loss 5.3539 Accuracy 0.2098\n",
            "Epoch 3 Batch 600 Loss 5.3104 Accuracy 0.2124\n",
            "Epoch 3 Batch 700 Loss 5.2611 Accuracy 0.2155\n",
            "Epoch 3 Batch 800 Loss 5.2056 Accuracy 0.2188\n",
            "Epoch 3 Loss 5.1701 Accuracy 0.2209\n",
            "Time taken for 1 epoch: 65.10522747039795 secs\n",
            "\n",
            "Epoch 4 Batch 0 Loss 5.6251 Accuracy 0.2209\n",
            "Epoch 4 Batch 100 Loss 5.1832 Accuracy 0.2220\n",
            "Epoch 4 Batch 200 Loss 5.0909 Accuracy 0.2235\n",
            "Epoch 4 Batch 300 Loss 5.0068 Accuracy 0.2255\n",
            "Epoch 4 Batch 400 Loss 4.9679 Accuracy 0.2275\n",
            "Epoch 4 Batch 500 Loss 4.9159 Accuracy 0.2298\n",
            "Epoch 4 Batch 600 Loss 4.8663 Accuracy 0.2324\n",
            "Epoch 4 Batch 700 Loss 4.8145 Accuracy 0.2353\n",
            "Epoch 4 Batch 800 Loss 4.7572 Accuracy 0.2385\n",
            "Saving checkpoint for epoch 4 at checkpoints/ckpt-3\n",
            "Epoch 4 Loss 4.7238 Accuracy 0.2405\n",
            "Time taken for 1 epoch: 70.8699254989624 secs\n",
            "\n",
            "Epoch 5 Batch 0 Loss 5.3053 Accuracy 0.2405\n",
            "Epoch 5 Batch 100 Loss 4.7875 Accuracy 0.2418\n",
            "Epoch 5 Batch 200 Loss 4.6936 Accuracy 0.2435\n",
            "Epoch 5 Batch 300 Loss 4.6189 Accuracy 0.2455\n",
            "Epoch 5 Batch 400 Loss 4.5785 Accuracy 0.2475\n",
            "Epoch 5 Batch 500 Loss 4.5290 Accuracy 0.2499\n",
            "Epoch 5 Batch 600 Loss 4.4811 Accuracy 0.2523\n",
            "Epoch 5 Batch 700 Loss 4.4313 Accuracy 0.2551\n",
            "Epoch 5 Batch 800 Loss 4.3786 Accuracy 0.2580\n",
            "Epoch 5 Loss 4.3486 Accuracy 0.2598\n",
            "Time taken for 1 epoch: 65.24315857887268 secs\n",
            "\n",
            "Epoch 6 Batch 0 Loss 4.9542 Accuracy 0.2598\n",
            "Epoch 6 Batch 100 Loss 4.4643 Accuracy 0.2611\n",
            "Epoch 6 Batch 200 Loss 4.3747 Accuracy 0.2628\n",
            "Epoch 6 Batch 300 Loss 4.3025 Accuracy 0.2647\n",
            "Epoch 6 Batch 400 Loss 4.2642 Accuracy 0.2666\n",
            "Epoch 6 Batch 500 Loss 4.2156 Accuracy 0.2688\n",
            "Epoch 6 Batch 600 Loss 4.1697 Accuracy 0.2711\n",
            "Epoch 6 Batch 700 Loss 4.1210 Accuracy 0.2737\n",
            "Epoch 6 Batch 800 Loss 4.0730 Accuracy 0.2764\n",
            "Saving checkpoint for epoch 6 at checkpoints/ckpt-4\n",
            "Epoch 6 Loss 4.0450 Accuracy 0.2780\n",
            "Time taken for 1 epoch: 68.55965828895569 secs\n",
            "\n",
            "Epoch 7 Batch 0 Loss 4.7858 Accuracy 0.2781\n",
            "Epoch 7 Batch 100 Loss 4.2144 Accuracy 0.2794\n",
            "Epoch 7 Batch 200 Loss 4.1213 Accuracy 0.2810\n",
            "Epoch 7 Batch 300 Loss 4.0524 Accuracy 0.2828\n",
            "Epoch 7 Batch 400 Loss 4.0141 Accuracy 0.2846\n",
            "Epoch 7 Batch 500 Loss 3.9636 Accuracy 0.2868\n",
            "Epoch 7 Batch 600 Loss 3.9197 Accuracy 0.2890\n",
            "Epoch 7 Batch 700 Loss 3.8719 Accuracy 0.2914\n",
            "Epoch 7 Batch 800 Loss 3.8260 Accuracy 0.2939\n",
            "Epoch 7 Loss 3.7993 Accuracy 0.2954\n",
            "Time taken for 1 epoch: 65.06197357177734 secs\n",
            "\n",
            "Epoch 8 Batch 0 Loss 4.3544 Accuracy 0.2954\n",
            "Epoch 8 Batch 100 Loss 3.9810 Accuracy 0.2967\n",
            "Epoch 8 Batch 200 Loss 3.8977 Accuracy 0.2983\n",
            "Epoch 8 Batch 300 Loss 3.8324 Accuracy 0.3000\n",
            "Epoch 8 Batch 400 Loss 3.7956 Accuracy 0.3017\n",
            "Epoch 8 Batch 500 Loss 3.7461 Accuracy 0.3037\n",
            "Epoch 8 Batch 600 Loss 3.7003 Accuracy 0.3058\n",
            "Epoch 8 Batch 700 Loss 3.6542 Accuracy 0.3080\n",
            "Epoch 8 Batch 800 Loss 3.6102 Accuracy 0.3103\n",
            "Saving checkpoint for epoch 8 at checkpoints/ckpt-5\n",
            "Epoch 8 Loss 3.5857 Accuracy 0.3117\n",
            "Time taken for 1 epoch: 65.81076312065125 secs\n",
            "\n",
            "Epoch 9 Batch 0 Loss 4.7532 Accuracy 0.3117\n",
            "Epoch 9 Batch 100 Loss 3.8018 Accuracy 0.3130\n",
            "Epoch 9 Batch 200 Loss 3.7162 Accuracy 0.3144\n",
            "Epoch 9 Batch 300 Loss 3.6470 Accuracy 0.3160\n",
            "Epoch 9 Batch 400 Loss 3.6141 Accuracy 0.3176\n",
            "Epoch 9 Batch 500 Loss 3.5629 Accuracy 0.3195\n",
            "Epoch 9 Batch 600 Loss 3.5156 Accuracy 0.3215\n",
            "Epoch 9 Batch 700 Loss 3.4705 Accuracy 0.3236\n",
            "Epoch 9 Batch 800 Loss 3.4279 Accuracy 0.3258\n",
            "Epoch 9 Loss 3.4046 Accuracy 0.3271\n",
            "Time taken for 1 epoch: 64.75322699546814 secs\n",
            "\n",
            "Epoch 10 Batch 0 Loss 4.2254 Accuracy 0.3271\n",
            "Epoch 10 Batch 100 Loss 3.6279 Accuracy 0.3282\n",
            "Epoch 10 Batch 200 Loss 3.5528 Accuracy 0.3296\n",
            "Epoch 10 Batch 300 Loss 3.4877 Accuracy 0.3311\n",
            "Epoch 10 Batch 400 Loss 3.4534 Accuracy 0.3326\n",
            "Epoch 10 Batch 500 Loss 3.4029 Accuracy 0.3344\n",
            "Epoch 10 Batch 600 Loss 3.3592 Accuracy 0.3363\n",
            "Epoch 10 Batch 700 Loss 3.3159 Accuracy 0.3382\n",
            "Epoch 10 Batch 800 Loss 3.2762 Accuracy 0.3402\n",
            "Saving checkpoint for epoch 10 at checkpoints/ckpt-6\n",
            "Epoch 10 Loss 3.2544 Accuracy 0.3414\n",
            "Time taken for 1 epoch: 67.8672547340393 secs\n",
            "\n",
            "Epoch 11 Batch 0 Loss 4.0256 Accuracy 0.3414\n",
            "Epoch 11 Batch 100 Loss 3.5057 Accuracy 0.3425\n",
            "Epoch 11 Batch 200 Loss 3.4256 Accuracy 0.3438\n",
            "Epoch 11 Batch 300 Loss 3.3581 Accuracy 0.3452\n",
            "Epoch 11 Batch 400 Loss 3.3255 Accuracy 0.3466\n",
            "Epoch 11 Batch 500 Loss 3.2772 Accuracy 0.3483\n",
            "Epoch 11 Batch 600 Loss 3.2363 Accuracy 0.3500\n",
            "Epoch 11 Batch 700 Loss 3.1951 Accuracy 0.3518\n",
            "Epoch 11 Batch 800 Loss 3.1582 Accuracy 0.3537\n",
            "Epoch 11 Loss 3.1380 Accuracy 0.3549\n",
            "Time taken for 1 epoch: 64.43102836608887 secs\n",
            "\n",
            "Epoch 12 Batch 0 Loss 3.9945 Accuracy 0.3549\n",
            "Epoch 12 Batch 100 Loss 3.4016 Accuracy 0.3559\n",
            "Epoch 12 Batch 200 Loss 3.3152 Accuracy 0.3571\n",
            "Epoch 12 Batch 300 Loss 3.2500 Accuracy 0.3584\n",
            "Epoch 12 Batch 400 Loss 3.2203 Accuracy 0.3597\n",
            "Epoch 12 Batch 500 Loss 3.1761 Accuracy 0.3613\n",
            "Epoch 12 Batch 600 Loss 3.1340 Accuracy 0.3629\n",
            "Epoch 12 Batch 700 Loss 3.0933 Accuracy 0.3646\n",
            "Epoch 12 Batch 800 Loss 3.0566 Accuracy 0.3664\n",
            "Saving checkpoint for epoch 12 at checkpoints/ckpt-7\n",
            "Epoch 12 Loss 3.0361 Accuracy 0.3675\n",
            "Time taken for 1 epoch: 70.75310444831848 secs\n",
            "\n",
            "Epoch 13 Batch 0 Loss 3.6581 Accuracy 0.3675\n",
            "Epoch 13 Batch 100 Loss 3.2985 Accuracy 0.3684\n",
            "Epoch 13 Batch 200 Loss 3.2146 Accuracy 0.3695\n",
            "Epoch 13 Batch 300 Loss 3.1545 Accuracy 0.3708\n",
            "Epoch 13 Batch 400 Loss 3.1214 Accuracy 0.3720\n",
            "Epoch 13 Batch 500 Loss 3.0768 Accuracy 0.3735\n",
            "Epoch 13 Batch 600 Loss 3.0333 Accuracy 0.3750\n",
            "Epoch 13 Batch 700 Loss 2.9926 Accuracy 0.3766\n",
            "Epoch 13 Batch 800 Loss 2.9545 Accuracy 0.3783\n",
            "Epoch 13 Loss 2.9329 Accuracy 0.3793\n",
            "Time taken for 1 epoch: 64.50114679336548 secs\n",
            "\n",
            "Epoch 14 Batch 0 Loss 3.5812 Accuracy 0.3793\n",
            "Epoch 14 Batch 100 Loss 3.1697 Accuracy 0.3802\n",
            "Epoch 14 Batch 200 Loss 3.1011 Accuracy 0.3813\n",
            "Epoch 14 Batch 300 Loss 3.0424 Accuracy 0.3824\n",
            "Epoch 14 Batch 400 Loss 3.0069 Accuracy 0.3836\n",
            "Epoch 14 Batch 500 Loss 2.9610 Accuracy 0.3850\n",
            "Epoch 14 Batch 600 Loss 2.9221 Accuracy 0.3865\n",
            "Epoch 14 Batch 700 Loss 2.8812 Accuracy 0.3880\n",
            "Epoch 14 Batch 800 Loss 2.8434 Accuracy 0.3895\n",
            "Saving checkpoint for epoch 14 at checkpoints/ckpt-8\n",
            "Epoch 14 Loss 2.8232 Accuracy 0.3905\n",
            "Time taken for 1 epoch: 69.6450686454773 secs\n",
            "\n",
            "Epoch 15 Batch 0 Loss 3.5871 Accuracy 0.3905\n",
            "Epoch 15 Batch 100 Loss 3.0579 Accuracy 0.3914\n",
            "Epoch 15 Batch 200 Loss 2.9839 Accuracy 0.3924\n",
            "Epoch 15 Batch 300 Loss 2.9312 Accuracy 0.3935\n",
            "Epoch 15 Batch 400 Loss 2.8981 Accuracy 0.3946\n",
            "Epoch 15 Batch 600 Loss 2.8098 Accuracy 0.3973\n",
            "Epoch 15 Batch 700 Loss 2.7700 Accuracy 0.3988\n",
            "Epoch 15 Batch 800 Loss 2.7335 Accuracy 0.4003\n",
            "Epoch 15 Loss 2.7133 Accuracy 0.4012\n",
            "Time taken for 1 epoch: 64.64379119873047 secs\n",
            "\n",
            "Epoch 16 Batch 0 Loss 3.1753 Accuracy 0.4012\n",
            "Epoch 16 Batch 100 Loss 2.9378 Accuracy 0.4020\n",
            "Epoch 16 Batch 200 Loss 2.8736 Accuracy 0.4030\n",
            "Epoch 16 Batch 300 Loss 2.8221 Accuracy 0.4040\n",
            "Epoch 16 Batch 400 Loss 2.7919 Accuracy 0.4051\n",
            "Epoch 16 Batch 500 Loss 2.7476 Accuracy 0.4064\n",
            "Epoch 16 Batch 600 Loss 2.7044 Accuracy 0.4077\n",
            "Epoch 16 Batch 700 Loss 2.6658 Accuracy 0.4091\n",
            "Epoch 16 Batch 800 Loss 2.6298 Accuracy 0.4105\n",
            "Saving checkpoint for epoch 16 at checkpoints/ckpt-9\n",
            "Epoch 16 Loss 2.6093 Accuracy 0.4114\n",
            "Time taken for 1 epoch: 70.77253484725952 secs\n",
            "\n",
            "Epoch 17 Batch 0 Loss 3.4619 Accuracy 0.4114\n",
            "Epoch 17 Batch 100 Loss 2.8473 Accuracy 0.4122\n",
            "Epoch 17 Batch 200 Loss 2.7821 Accuracy 0.4131\n",
            "Epoch 17 Batch 300 Loss 2.7258 Accuracy 0.4141\n",
            "Epoch 17 Batch 400 Loss 2.6940 Accuracy 0.4151\n",
            "Epoch 17 Batch 500 Loss 2.6527 Accuracy 0.4163\n",
            "Epoch 17 Batch 600 Loss 2.6097 Accuracy 0.4176\n",
            "Epoch 17 Batch 700 Loss 2.5702 Accuracy 0.4189\n",
            "Epoch 17 Batch 800 Loss 2.5357 Accuracy 0.4202\n",
            "Epoch 17 Loss 2.5153 Accuracy 0.4210\n",
            "Time taken for 1 epoch: 65.35230040550232 secs\n",
            "\n",
            "Epoch 18 Batch 0 Loss 3.2466 Accuracy 0.4210\n",
            "Epoch 18 Batch 100 Loss 2.7401 Accuracy 0.4218\n",
            "Epoch 18 Batch 200 Loss 2.6786 Accuracy 0.4227\n",
            "Epoch 18 Batch 300 Loss 2.6314 Accuracy 0.4237\n",
            "Epoch 18 Batch 400 Loss 2.6031 Accuracy 0.4247\n",
            "Epoch 18 Batch 500 Loss 2.5621 Accuracy 0.4258\n",
            "Epoch 18 Batch 600 Loss 2.5211 Accuracy 0.4271\n",
            "Epoch 18 Batch 700 Loss 2.4816 Accuracy 0.4283\n",
            "Epoch 18 Batch 800 Loss 2.4472 Accuracy 0.4296\n",
            "Saving checkpoint for epoch 18 at checkpoints/ckpt-10\n",
            "Epoch 18 Loss 2.4278 Accuracy 0.4304\n",
            "Time taken for 1 epoch: 69.18459153175354 secs\n",
            "\n",
            "Epoch 19 Batch 0 Loss 3.1379 Accuracy 0.4304\n",
            "Epoch 19 Batch 100 Loss 2.6624 Accuracy 0.4311\n",
            "Epoch 19 Batch 200 Loss 2.5956 Accuracy 0.4320\n",
            "Epoch 19 Batch 300 Loss 2.5474 Accuracy 0.4329\n",
            "Epoch 19 Batch 400 Loss 2.5232 Accuracy 0.4339\n",
            "Epoch 19 Batch 500 Loss 2.4769 Accuracy 0.4350\n",
            "Epoch 19 Batch 600 Loss 2.4399 Accuracy 0.4361\n",
            "Epoch 19 Batch 700 Loss 2.4012 Accuracy 0.4374\n",
            "Epoch 19 Batch 800 Loss 2.3690 Accuracy 0.4386\n",
            "Epoch 19 Loss 2.3498 Accuracy 0.4393\n",
            "Time taken for 1 epoch: 67.37352776527405 secs\n",
            "\n",
            "Epoch 20 Batch 0 Loss 2.9004 Accuracy 0.4393\n",
            "Epoch 20 Batch 100 Loss 2.5844 Accuracy 0.4400\n",
            "Epoch 20 Batch 200 Loss 2.5271 Accuracy 0.4408\n",
            "Epoch 20 Batch 300 Loss 2.4831 Accuracy 0.4417\n",
            "Epoch 20 Batch 400 Loss 2.4541 Accuracy 0.4426\n",
            "Epoch 20 Batch 500 Loss 2.4103 Accuracy 0.4437\n",
            "Epoch 20 Batch 600 Loss 2.3712 Accuracy 0.4448\n",
            "Epoch 20 Batch 700 Loss 2.3347 Accuracy 0.4459\n",
            "Epoch 20 Batch 800 Loss 2.3017 Accuracy 0.4471\n",
            "Saving checkpoint for epoch 20 at checkpoints/ckpt-11\n",
            "Epoch 20 Loss 2.2845 Accuracy 0.4478\n",
            "Time taken for 1 epoch: 71.01674342155457 secs\n",
            "\n",
            "Epoch 21 Batch 0 Loss 3.1228 Accuracy 0.4478\n",
            "Epoch 21 Batch 100 Loss 2.5119 Accuracy 0.4485\n",
            "Epoch 21 Batch 200 Loss 2.4595 Accuracy 0.4493\n",
            "Epoch 21 Batch 300 Loss 2.4130 Accuracy 0.4501\n",
            "Epoch 21 Batch 400 Loss 2.3833 Accuracy 0.4510\n",
            "Epoch 21 Batch 500 Loss 2.3417 Accuracy 0.4520\n",
            "Epoch 21 Batch 600 Loss 2.3042 Accuracy 0.4530\n",
            "Epoch 21 Batch 700 Loss 2.2682 Accuracy 0.4541\n",
            "Epoch 21 Batch 800 Loss 2.2356 Accuracy 0.4553\n",
            "Epoch 21 Loss 2.2182 Accuracy 0.4559\n",
            "Time taken for 1 epoch: 64.44394493103027 secs\n",
            "\n",
            "Epoch 22 Batch 0 Loss 2.9491 Accuracy 0.4559\n",
            "Epoch 22 Batch 100 Loss 2.4501 Accuracy 0.4566\n",
            "Epoch 22 Batch 200 Loss 2.4026 Accuracy 0.4573\n",
            "Epoch 22 Batch 300 Loss 2.3538 Accuracy 0.4582\n",
            "Epoch 22 Batch 400 Loss 2.3285 Accuracy 0.4590\n",
            "Epoch 22 Batch 500 Loss 2.2844 Accuracy 0.4600\n",
            "Epoch 22 Batch 600 Loss 2.2435 Accuracy 0.4610\n",
            "Epoch 22 Batch 700 Loss 2.2097 Accuracy 0.4620\n",
            "Epoch 22 Batch 800 Loss 2.1784 Accuracy 0.4631\n",
            "Saving checkpoint for epoch 22 at checkpoints/ckpt-12\n",
            "Epoch 22 Loss 2.1611 Accuracy 0.4637\n",
            "Time taken for 1 epoch: 66.25651812553406 secs\n",
            "\n",
            "Epoch 23 Batch 0 Loss 2.6594 Accuracy 0.4637\n",
            "Epoch 23 Batch 100 Loss 2.4094 Accuracy 0.4644\n",
            "Epoch 23 Batch 200 Loss 2.3496 Accuracy 0.4651\n",
            "Epoch 23 Batch 300 Loss 2.3042 Accuracy 0.4659\n",
            "Epoch 23 Batch 400 Loss 2.2735 Accuracy 0.4667\n",
            "Epoch 23 Batch 500 Loss 2.2296 Accuracy 0.4676\n",
            "Epoch 23 Batch 600 Loss 2.1905 Accuracy 0.4686\n",
            "Epoch 23 Batch 700 Loss 2.1561 Accuracy 0.4696\n",
            "Epoch 23 Batch 800 Loss 2.1259 Accuracy 0.4706\n",
            "Epoch 23 Loss 2.1090 Accuracy 0.4712\n",
            "Time taken for 1 epoch: 64.1269142627716 secs\n",
            "\n",
            "Epoch 24 Batch 0 Loss 2.7194 Accuracy 0.4712\n",
            "Epoch 24 Batch 100 Loss 2.3529 Accuracy 0.4718\n",
            "Epoch 24 Batch 200 Loss 2.2976 Accuracy 0.4725\n",
            "Epoch 24 Batch 300 Loss 2.2545 Accuracy 0.4733\n",
            "Epoch 24 Batch 400 Loss 2.2271 Accuracy 0.4740\n",
            "Epoch 24 Batch 500 Loss 2.1832 Accuracy 0.4749\n",
            "Epoch 24 Batch 600 Loss 2.1439 Accuracy 0.4759\n",
            "Epoch 24 Batch 700 Loss 2.1084 Accuracy 0.4768\n",
            "Epoch 24 Batch 800 Loss 2.0775 Accuracy 0.4778\n",
            "Saving checkpoint for epoch 24 at checkpoints/ckpt-13\n",
            "Epoch 24 Loss 2.0618 Accuracy 0.4784\n",
            "Time taken for 1 epoch: 65.41546869277954 secs\n",
            "\n",
            "Epoch 25 Batch 0 Loss 2.6141 Accuracy 0.4784\n",
            "Epoch 25 Batch 100 Loss 2.2976 Accuracy 0.4790\n",
            "Epoch 25 Batch 200 Loss 2.2451 Accuracy 0.4797\n",
            "Epoch 25 Batch 300 Loss 2.2045 Accuracy 0.4804\n",
            "Epoch 25 Batch 400 Loss 2.1755 Accuracy 0.4811\n",
            "Epoch 25 Batch 500 Loss 2.1357 Accuracy 0.4820\n",
            "Epoch 25 Batch 600 Loss 2.0973 Accuracy 0.4829\n",
            "Epoch 25 Batch 700 Loss 2.0636 Accuracy 0.4838\n",
            "Epoch 25 Batch 800 Loss 2.0355 Accuracy 0.4847\n",
            "Epoch 25 Loss 2.0202 Accuracy 0.4853\n",
            "Time taken for 1 epoch: 64.29865646362305 secs\n",
            "\n"
          ]
        }
      ],
      "source": [
        "EPOCHS = 25\n",
        "BATCH_SIZE = 64\n",
        "subset_dataset = dataset.take(3000) #Redunce the number of samples\n",
        "\n",
        "for epoch in range(EPOCHS):\n",
        "    start = time.time()\n",
        "\n",
        "    train_loss.reset_states()\n",
        "\n",
        "    for (batch, (inp, tar)) in enumerate(dataset):\n",
        "        train_step(inp, tar)\n",
        "\n",
        "        if batch % 100 == 0:\n",
        "            print(f'Epoch {epoch + 1} Batch {batch} Loss {train_loss.result():.4f} Accuracy {train_accuracy.result():.4f}')\n",
        "\n",
        "    if (epoch + 1) % 2 == 0:\n",
        "        ckpt_save_path = ckpt_manager.save()\n",
        "        print ('Saving checkpoint for epoch {} at {}'.format(epoch+1, ckpt_save_path))\n",
        "\n",
        "    print(f'Epoch {epoch + 1} Loss {train_loss.result():.4f} Accuracy {train_accuracy.result():.4f}')\n",
        "    print ('Time taken for 1 epoch: {} secs\\n'.format(time.time() - start))\n",
        "\n"
      ]
    },
    {
      "cell_type": "code",
      "execution_count": null,
      "metadata": {
        "id": "CNu7a-G3HK-T"
      },
      "outputs": [],
      "source": [
        "def summarize(input_article):\n",
        "    summarized = evaluate(input_article=input_article)[0].numpy()\n",
        "    summarized = np.expand_dims(summarized[1:], 0)\n",
        "    return summary_tokenizer.sequences_to_texts(summarized)[0]"
      ]
    },
    {
      "cell_type": "code",
      "execution_count": null,
      "metadata": {
        "id": "AkPUsl0sHK7j",
        "colab": {
          "base_uri": "https://localhost:8080/",
          "height": 88
        },
        "outputId": "fd8d53fb-5f48-43ef-dffc-87d11f245eae"
      },
      "outputs": [
        {
          "output_type": "execute_result",
          "data": {
            "text/plain": [
              "'<SOS> A new trailer for the upcoming superhero film  Justice League  was released on Saturday. Based on the DC Comics superhero team, the film stars Ben Affleck as  Batman , Gal Gadot as  Wonder Woman , Ezra Miller as  The Flash  and Jason Momoa as  Aquaman . Directed by Zack Snyder, the film is scheduled to release on November 17, 2017. Ezra Miller superhero film & Ben Affleck DC Comics Zack Snyder Jason Momoa Ezra Miller superhero film & Ben Affleck DC Comics Zack Snyder Jason Momoa Ezra Miller superhero film & Ben Affleck DC Comics Zack Snyder Jason Momoa <EOS>'"
            ],
            "application/vnd.google.colaboratory.intrinsic+json": {
              "type": "string"
            }
          },
          "metadata": {},
          "execution_count": 68
        }
      ],
      "source": [
        "article[5]"
      ]
    },
    {
      "cell_type": "code",
      "execution_count": null,
      "metadata": {
        "id": "sUSvaGbuJpCJ",
        "colab": {
          "base_uri": "https://localhost:8080/"
        },
        "outputId": "3aff00aa-d589-4858-a60f-92dd45da3637"
      },
      "outputs": [
        {
          "output_type": "stream",
          "name": "stdout",
          "text": [
            "Real Summary :   New trailer of  Justice League  released  \n",
            " Predicted Summary :  new trailer of justice league released\n"
          ]
        }
      ],
      "source": [
        "print(\"Real Summary : \", summary[5][5:-5],\"\\n Predicted Summary : \", summarize(article[5]))"
      ]
    },
    {
      "cell_type": "code",
      "execution_count": null,
      "metadata": {
        "id": "2NB7jtq7Jo-y",
        "colab": {
          "base_uri": "https://localhost:8080/",
          "height": 88
        },
        "outputId": "491a8f03-c9fa-464c-df22-8910d57dcafe"
      },
      "outputs": [
        {
          "output_type": "execute_result",
          "data": {
            "text/plain": [
              "'<SOS> As a part of an education initiative, the entire Wankhede Stadium will be reserved for underprivileged children for the IPL 2017 match between Mumbai Indians and Gujarat Lions, to be held on April 16. A statement by the Mumbai Indians read that they will not be selling any stand tickets for the team s third home game, against the Gujarat Lions. Gujarat Lions the Gujarat Lions Gujarat Lions the Gujarat Lions Gujarat Lions the Gujarat Lions <EOS>'"
            ],
            "application/vnd.google.colaboratory.intrinsic+json": {
              "type": "string"
            }
          },
          "metadata": {},
          "execution_count": 70
        }
      ],
      "source": [
        "article[16]"
      ]
    },
    {
      "cell_type": "code",
      "execution_count": null,
      "metadata": {
        "id": "BdPzVFfbJo77",
        "colab": {
          "base_uri": "https://localhost:8080/"
        },
        "outputId": "5df7703b-9f18-4a9d-ecac-853c287254e5"
      },
      "outputs": [
        {
          "output_type": "stream",
          "name": "stdout",
          "text": [
            "Real Summary :   Underprivileged kids to fill Wankhede during MI s IPL match  \n",
            "Predicted Summary :  lions to take place for underprivileged kids\n"
          ]
        }
      ],
      "source": [
        "print(\"Real Summary : \", summary[16][5:-5],\"\\nPredicted Summary : \", summarize(article[16]))\n"
      ]
    },
    {
      "cell_type": "code",
      "source": [
        "import numpy as np\n",
        "import pandas as pd\n",
        "import random\n",
        "\n",
        "df = pd.DataFrame(columns=['Article', 'Predicted Summary', 'Actual Summary'])\n",
        "for _ in range(2000):\n",
        "    article_id = random.randint(0, len(article) - 1)\n",
        "    article_text = article[article_id]\n",
        "    actual_summary = summary[article_id][5:-5]  # Assuming summary is a list of strings\n",
        "    predicted_summary = summarize(article_text)  # Assuming summarize function is defined elsewhere\n",
        "    df = pd.concat([df, pd.DataFrame({'Article': [article_id], 'Predicted Summary': [predicted_summary], 'Actual Summary': [actual_summary]})], ignore_index=True)\n",
        "\n",
        "# Save the DataFrame to a CSV file\n",
        "df.to_csv('articles_and_summaries.csv', index=False)\n",
        "\n"
      ],
      "metadata": {
        "id": "d0rfsxliW1sr"
      },
      "execution_count": null,
      "outputs": []
    },
    {
      "cell_type": "code",
      "source": [
        "df.head()"
      ],
      "metadata": {
        "colab": {
          "base_uri": "https://localhost:8080/",
          "height": 206
        },
        "id": "5VIRtu6a74de",
        "outputId": "7bc62e42-fa1f-45cd-8afb-576c40f96ba4"
      },
      "execution_count": null,
      "outputs": [
        {
          "output_type": "execute_result",
          "data": {
            "text/plain": [
              "  Article                                  Predicted Summary  \\\n",
              "0   33509               award to get bharat ratna for a year   \n",
              "1   12609  anna hazare seeks probe into ₹25 000 cr maha g...   \n",
              "2   47932               five migrants drown off greece coast   \n",
              "3   10030           i feel bad for india s raees raees sunny   \n",
              "4   19202  bengaluru launches lgbt community to support l...   \n",
              "\n",
              "                                      Actual Summary  \n",
              "0   4 Khel Ratna awardees in a year for the 1st t...  \n",
              "1   Anna Hazare seeks probe into ₹25,000 cr Maha ...  \n",
              "2               Five migrants drown off Greek coast   \n",
              "3   Feel bad that I can t promote  Raees  in Indi...  \n",
              "4   Bengaluru witnesses  Pride Parade  to support...  "
            ],
            "text/html": [
              "\n",
              "  <div id=\"df-95307690-ca31-436c-8fbc-6471499320bb\" class=\"colab-df-container\">\n",
              "    <div>\n",
              "<style scoped>\n",
              "    .dataframe tbody tr th:only-of-type {\n",
              "        vertical-align: middle;\n",
              "    }\n",
              "\n",
              "    .dataframe tbody tr th {\n",
              "        vertical-align: top;\n",
              "    }\n",
              "\n",
              "    .dataframe thead th {\n",
              "        text-align: right;\n",
              "    }\n",
              "</style>\n",
              "<table border=\"1\" class=\"dataframe\">\n",
              "  <thead>\n",
              "    <tr style=\"text-align: right;\">\n",
              "      <th></th>\n",
              "      <th>Article</th>\n",
              "      <th>Predicted Summary</th>\n",
              "      <th>Actual Summary</th>\n",
              "    </tr>\n",
              "  </thead>\n",
              "  <tbody>\n",
              "    <tr>\n",
              "      <th>0</th>\n",
              "      <td>33509</td>\n",
              "      <td>award to get bharat ratna for a year</td>\n",
              "      <td>4 Khel Ratna awardees in a year for the 1st t...</td>\n",
              "    </tr>\n",
              "    <tr>\n",
              "      <th>1</th>\n",
              "      <td>12609</td>\n",
              "      <td>anna hazare seeks probe into ₹25 000 cr maha g...</td>\n",
              "      <td>Anna Hazare seeks probe into ₹25,000 cr Maha ...</td>\n",
              "    </tr>\n",
              "    <tr>\n",
              "      <th>2</th>\n",
              "      <td>47932</td>\n",
              "      <td>five migrants drown off greece coast</td>\n",
              "      <td>Five migrants drown off Greek coast</td>\n",
              "    </tr>\n",
              "    <tr>\n",
              "      <th>3</th>\n",
              "      <td>10030</td>\n",
              "      <td>i feel bad for india s raees raees sunny</td>\n",
              "      <td>Feel bad that I can t promote  Raees  in Indi...</td>\n",
              "    </tr>\n",
              "    <tr>\n",
              "      <th>4</th>\n",
              "      <td>19202</td>\n",
              "      <td>bengaluru launches lgbt community to support l...</td>\n",
              "      <td>Bengaluru witnesses  Pride Parade  to support...</td>\n",
              "    </tr>\n",
              "  </tbody>\n",
              "</table>\n",
              "</div>\n",
              "    <div class=\"colab-df-buttons\">\n",
              "\n",
              "  <div class=\"colab-df-container\">\n",
              "    <button class=\"colab-df-convert\" onclick=\"convertToInteractive('df-95307690-ca31-436c-8fbc-6471499320bb')\"\n",
              "            title=\"Convert this dataframe to an interactive table.\"\n",
              "            style=\"display:none;\">\n",
              "\n",
              "  <svg xmlns=\"http://www.w3.org/2000/svg\" height=\"24px\" viewBox=\"0 -960 960 960\">\n",
              "    <path d=\"M120-120v-720h720v720H120Zm60-500h600v-160H180v160Zm220 220h160v-160H400v160Zm0 220h160v-160H400v160ZM180-400h160v-160H180v160Zm440 0h160v-160H620v160ZM180-180h160v-160H180v160Zm440 0h160v-160H620v160Z\"/>\n",
              "  </svg>\n",
              "    </button>\n",
              "\n",
              "  <style>\n",
              "    .colab-df-container {\n",
              "      display:flex;\n",
              "      gap: 12px;\n",
              "    }\n",
              "\n",
              "    .colab-df-convert {\n",
              "      background-color: #E8F0FE;\n",
              "      border: none;\n",
              "      border-radius: 50%;\n",
              "      cursor: pointer;\n",
              "      display: none;\n",
              "      fill: #1967D2;\n",
              "      height: 32px;\n",
              "      padding: 0 0 0 0;\n",
              "      width: 32px;\n",
              "    }\n",
              "\n",
              "    .colab-df-convert:hover {\n",
              "      background-color: #E2EBFA;\n",
              "      box-shadow: 0px 1px 2px rgba(60, 64, 67, 0.3), 0px 1px 3px 1px rgba(60, 64, 67, 0.15);\n",
              "      fill: #174EA6;\n",
              "    }\n",
              "\n",
              "    .colab-df-buttons div {\n",
              "      margin-bottom: 4px;\n",
              "    }\n",
              "\n",
              "    [theme=dark] .colab-df-convert {\n",
              "      background-color: #3B4455;\n",
              "      fill: #D2E3FC;\n",
              "    }\n",
              "\n",
              "    [theme=dark] .colab-df-convert:hover {\n",
              "      background-color: #434B5C;\n",
              "      box-shadow: 0px 1px 3px 1px rgba(0, 0, 0, 0.15);\n",
              "      filter: drop-shadow(0px 1px 2px rgba(0, 0, 0, 0.3));\n",
              "      fill: #FFFFFF;\n",
              "    }\n",
              "  </style>\n",
              "\n",
              "    <script>\n",
              "      const buttonEl =\n",
              "        document.querySelector('#df-95307690-ca31-436c-8fbc-6471499320bb button.colab-df-convert');\n",
              "      buttonEl.style.display =\n",
              "        google.colab.kernel.accessAllowed ? 'block' : 'none';\n",
              "\n",
              "      async function convertToInteractive(key) {\n",
              "        const element = document.querySelector('#df-95307690-ca31-436c-8fbc-6471499320bb');\n",
              "        const dataTable =\n",
              "          await google.colab.kernel.invokeFunction('convertToInteractive',\n",
              "                                                    [key], {});\n",
              "        if (!dataTable) return;\n",
              "\n",
              "        const docLinkHtml = 'Like what you see? Visit the ' +\n",
              "          '<a target=\"_blank\" href=https://colab.research.google.com/notebooks/data_table.ipynb>data table notebook</a>'\n",
              "          + ' to learn more about interactive tables.';\n",
              "        element.innerHTML = '';\n",
              "        dataTable['output_type'] = 'display_data';\n",
              "        await google.colab.output.renderOutput(dataTable, element);\n",
              "        const docLink = document.createElement('div');\n",
              "        docLink.innerHTML = docLinkHtml;\n",
              "        element.appendChild(docLink);\n",
              "      }\n",
              "    </script>\n",
              "  </div>\n",
              "\n",
              "\n",
              "<div id=\"df-dc1c2a47-f9d7-4871-9c2c-7f13bbcd1f30\">\n",
              "  <button class=\"colab-df-quickchart\" onclick=\"quickchart('df-dc1c2a47-f9d7-4871-9c2c-7f13bbcd1f30')\"\n",
              "            title=\"Suggest charts\"\n",
              "            style=\"display:none;\">\n",
              "\n",
              "<svg xmlns=\"http://www.w3.org/2000/svg\" height=\"24px\"viewBox=\"0 0 24 24\"\n",
              "     width=\"24px\">\n",
              "    <g>\n",
              "        <path d=\"M19 3H5c-1.1 0-2 .9-2 2v14c0 1.1.9 2 2 2h14c1.1 0 2-.9 2-2V5c0-1.1-.9-2-2-2zM9 17H7v-7h2v7zm4 0h-2V7h2v10zm4 0h-2v-4h2v4z\"/>\n",
              "    </g>\n",
              "</svg>\n",
              "  </button>\n",
              "\n",
              "<style>\n",
              "  .colab-df-quickchart {\n",
              "      --bg-color: #E8F0FE;\n",
              "      --fill-color: #1967D2;\n",
              "      --hover-bg-color: #E2EBFA;\n",
              "      --hover-fill-color: #174EA6;\n",
              "      --disabled-fill-color: #AAA;\n",
              "      --disabled-bg-color: #DDD;\n",
              "  }\n",
              "\n",
              "  [theme=dark] .colab-df-quickchart {\n",
              "      --bg-color: #3B4455;\n",
              "      --fill-color: #D2E3FC;\n",
              "      --hover-bg-color: #434B5C;\n",
              "      --hover-fill-color: #FFFFFF;\n",
              "      --disabled-bg-color: #3B4455;\n",
              "      --disabled-fill-color: #666;\n",
              "  }\n",
              "\n",
              "  .colab-df-quickchart {\n",
              "    background-color: var(--bg-color);\n",
              "    border: none;\n",
              "    border-radius: 50%;\n",
              "    cursor: pointer;\n",
              "    display: none;\n",
              "    fill: var(--fill-color);\n",
              "    height: 32px;\n",
              "    padding: 0;\n",
              "    width: 32px;\n",
              "  }\n",
              "\n",
              "  .colab-df-quickchart:hover {\n",
              "    background-color: var(--hover-bg-color);\n",
              "    box-shadow: 0 1px 2px rgba(60, 64, 67, 0.3), 0 1px 3px 1px rgba(60, 64, 67, 0.15);\n",
              "    fill: var(--button-hover-fill-color);\n",
              "  }\n",
              "\n",
              "  .colab-df-quickchart-complete:disabled,\n",
              "  .colab-df-quickchart-complete:disabled:hover {\n",
              "    background-color: var(--disabled-bg-color);\n",
              "    fill: var(--disabled-fill-color);\n",
              "    box-shadow: none;\n",
              "  }\n",
              "\n",
              "  .colab-df-spinner {\n",
              "    border: 2px solid var(--fill-color);\n",
              "    border-color: transparent;\n",
              "    border-bottom-color: var(--fill-color);\n",
              "    animation:\n",
              "      spin 1s steps(1) infinite;\n",
              "  }\n",
              "\n",
              "  @keyframes spin {\n",
              "    0% {\n",
              "      border-color: transparent;\n",
              "      border-bottom-color: var(--fill-color);\n",
              "      border-left-color: var(--fill-color);\n",
              "    }\n",
              "    20% {\n",
              "      border-color: transparent;\n",
              "      border-left-color: var(--fill-color);\n",
              "      border-top-color: var(--fill-color);\n",
              "    }\n",
              "    30% {\n",
              "      border-color: transparent;\n",
              "      border-left-color: var(--fill-color);\n",
              "      border-top-color: var(--fill-color);\n",
              "      border-right-color: var(--fill-color);\n",
              "    }\n",
              "    40% {\n",
              "      border-color: transparent;\n",
              "      border-right-color: var(--fill-color);\n",
              "      border-top-color: var(--fill-color);\n",
              "    }\n",
              "    60% {\n",
              "      border-color: transparent;\n",
              "      border-right-color: var(--fill-color);\n",
              "    }\n",
              "    80% {\n",
              "      border-color: transparent;\n",
              "      border-right-color: var(--fill-color);\n",
              "      border-bottom-color: var(--fill-color);\n",
              "    }\n",
              "    90% {\n",
              "      border-color: transparent;\n",
              "      border-bottom-color: var(--fill-color);\n",
              "    }\n",
              "  }\n",
              "</style>\n",
              "\n",
              "  <script>\n",
              "    async function quickchart(key) {\n",
              "      const quickchartButtonEl =\n",
              "        document.querySelector('#' + key + ' button');\n",
              "      quickchartButtonEl.disabled = true;  // To prevent multiple clicks.\n",
              "      quickchartButtonEl.classList.add('colab-df-spinner');\n",
              "      try {\n",
              "        const charts = await google.colab.kernel.invokeFunction(\n",
              "            'suggestCharts', [key], {});\n",
              "      } catch (error) {\n",
              "        console.error('Error during call to suggestCharts:', error);\n",
              "      }\n",
              "      quickchartButtonEl.classList.remove('colab-df-spinner');\n",
              "      quickchartButtonEl.classList.add('colab-df-quickchart-complete');\n",
              "    }\n",
              "    (() => {\n",
              "      let quickchartButtonEl =\n",
              "        document.querySelector('#df-dc1c2a47-f9d7-4871-9c2c-7f13bbcd1f30 button');\n",
              "      quickchartButtonEl.style.display =\n",
              "        google.colab.kernel.accessAllowed ? 'block' : 'none';\n",
              "    })();\n",
              "  </script>\n",
              "</div>\n",
              "    </div>\n",
              "  </div>\n"
            ],
            "application/vnd.google.colaboratory.intrinsic+json": {
              "type": "dataframe",
              "variable_name": "df",
              "summary": "{\n  \"name\": \"df\",\n  \"rows\": 876,\n  \"fields\": [\n    {\n      \"column\": \"Article\",\n      \"properties\": {\n        \"dtype\": \"date\",\n        \"min\": 191,\n        \"max\": 55078,\n        \"num_unique_values\": 865,\n        \"samples\": [\n          1597,\n          33853,\n          43337\n        ],\n        \"semantic_type\": \"\",\n        \"description\": \"\"\n      }\n    },\n    {\n      \"column\": \"Predicted Summary\",\n      \"properties\": {\n        \"dtype\": \"string\",\n        \"num_unique_values\": 865,\n        \"samples\": [\n          \"stayzilla re wc 2011 startup all bharat seen\",\n          \"philippine prez agrees to ceasefire with maoists\",\n          \"zika cases will be close to one month brazil\"\n        ],\n        \"semantic_type\": \"\",\n        \"description\": \"\"\n      }\n    },\n    {\n      \"column\": \"Actual Summary\",\n      \"properties\": {\n        \"dtype\": \"string\",\n        \"num_unique_values\": 865,\n        \"samples\": [\n          \" Stayzilla client enquired about Voodoo dolls on Facebook \",\n          \" Philippines agrees to ceasefire with Maoists \",\n          \"  Zika cases at Olympics will be close to zero  \"\n        ],\n        \"semantic_type\": \"\",\n        \"description\": \"\"\n      }\n    }\n  ]\n}"
            }
          },
          "metadata": {},
          "execution_count": 74
        }
      ]
    },
    {
      "cell_type": "code",
      "source": [
        "pip install rouge-score\n"
      ],
      "metadata": {
        "id": "qBxgnd3VW3X8",
        "colab": {
          "base_uri": "https://localhost:8080/"
        },
        "outputId": "bfa0c8f8-366b-49e4-f218-6f313f852ead"
      },
      "execution_count": null,
      "outputs": [
        {
          "output_type": "stream",
          "name": "stdout",
          "text": [
            "Collecting rouge-score\n",
            "  Downloading rouge_score-0.1.2.tar.gz (17 kB)\n",
            "  Preparing metadata (setup.py) ... \u001b[?25l\u001b[?25hdone\n",
            "Requirement already satisfied: absl-py in /usr/local/lib/python3.10/dist-packages (from rouge-score) (1.4.0)\n",
            "Requirement already satisfied: nltk in /usr/local/lib/python3.10/dist-packages (from rouge-score) (3.8.1)\n",
            "Requirement already satisfied: numpy in /usr/local/lib/python3.10/dist-packages (from rouge-score) (1.25.2)\n",
            "Requirement already satisfied: six>=1.14.0 in /usr/local/lib/python3.10/dist-packages (from rouge-score) (1.16.0)\n",
            "Requirement already satisfied: click in /usr/local/lib/python3.10/dist-packages (from nltk->rouge-score) (8.1.7)\n",
            "Requirement already satisfied: joblib in /usr/local/lib/python3.10/dist-packages (from nltk->rouge-score) (1.4.2)\n",
            "Requirement already satisfied: regex>=2021.8.3 in /usr/local/lib/python3.10/dist-packages (from nltk->rouge-score) (2023.12.25)\n",
            "Requirement already satisfied: tqdm in /usr/local/lib/python3.10/dist-packages (from nltk->rouge-score) (4.66.4)\n",
            "Building wheels for collected packages: rouge-score\n",
            "  Building wheel for rouge-score (setup.py) ... \u001b[?25l\u001b[?25hdone\n",
            "  Created wheel for rouge-score: filename=rouge_score-0.1.2-py3-none-any.whl size=24933 sha256=ce81304973bc3a028ec695446ff6d9dcfab0c9ceb8c889384df081e48df078a3\n",
            "  Stored in directory: /root/.cache/pip/wheels/5f/dd/89/461065a73be61a532ff8599a28e9beef17985c9e9c31e541b4\n",
            "Successfully built rouge-score\n",
            "Installing collected packages: rouge-score\n",
            "Successfully installed rouge-score-0.1.2\n"
          ]
        }
      ]
    },
    {
      "cell_type": "code",
      "source": [
        "#Testing on Validation set\n",
        "\n",
        "from rouge_score import rouge_scorer\n",
        "\n",
        "# Initialize the ROUGE scorer\n",
        "scorer = rouge_scorer.RougeScorer(['rouge1', 'rouge2', 'rougeL'], use_stemmer=True)\n",
        "\n",
        "# Calculate ROUGE scores for each row in the DataFrame\n",
        "rouge_scores = {'rouge1': [], 'rouge2': [], 'rougeL': []}\n",
        "for index, row in df.iterrows():\n",
        "    scores = scorer.score(row['Predicted Summary'], row['Actual Summary'])\n",
        "    rouge_scores['rouge1'].append(scores['rouge1'].fmeasure)\n",
        "    rouge_scores['rouge2'].append(scores['rouge2'].fmeasure)\n",
        "    rouge_scores['rougeL'].append(scores['rougeL'].fmeasure)\n",
        "\n",
        "# Add ROUGE scores to the DataFrame\n",
        "for metric, scores in rouge_scores.items():\n",
        "    df[f'{metric}_score'] = scores\n",
        "\n",
        "# Save the DataFrame with ROUGE scores to a CSV file\n",
        "df.to_csv('articles_and_summaries_with_rouge_scores.csv', index=False)\n"
      ],
      "metadata": {
        "id": "__f2o0NVW8qU"
      },
      "execution_count": null,
      "outputs": []
    },
    {
      "cell_type": "code",
      "source": [
        "import matplotlib.pyplot as plt\n",
        "\n",
        "# Calculate the average ROUGE scores\n",
        "average_rouge_scores = df[['rouge1_score', 'rouge2_score', 'rougeL_score']].mean()\n",
        "\n",
        "# Plot a pie chart\n",
        "labels = ['ROUGE-1', 'ROUGE-2', 'ROUGE-L']\n",
        "colors = ['gold', 'yellowgreen', 'lightcoral']\n",
        "plt.figure(figsize=(8, 6))\n",
        "plt.pie(average_rouge_scores, labels=labels, colors=colors, autopct='%1.1f%%', startangle=140)\n",
        "plt.axis('equal')\n",
        "plt.title('Average ROUGE Scores for 2000 Samples')\n",
        "plt.show()\n"
      ],
      "metadata": {
        "id": "1azxte0ZW8Yh",
        "colab": {
          "base_uri": "https://localhost:8080/",
          "height": 521
        },
        "outputId": "4a04ab5d-466d-4eb2-d65f-58e7b39a92d0"
      },
      "execution_count": null,
      "outputs": [
        {
          "output_type": "display_data",
          "data": {
            "text/plain": [
              "<Figure size 800x600 with 1 Axes>"
            ],
            "image/png": "[encoded data removed]"
          },
          "metadata": {}
        }
      ]
    },
    {
      "cell_type": "code",
      "source": [
        "#Test Cases\n",
        "\n",
        "text = \"\"\"\n",
        "In the Star Trek universe, the USS Enterprise, commanded by Captain James T. Kirk and later Captain Jean-Luc Picard, embarked on exploratory missions across the galaxy. They encountered alien civilizations like the Klingons, Romulans, and Borg, forging alliances and facing conflicts. With technology like warp drive and transporters, they boldly went where no one had gone before, embodying the spirit of curiosity and cooperation.\"\"\"\n",
        "\n",
        "summary = summarize(text)\n",
        "\n",
        "print(\"\\n Predicted Summary : \", summary)"
      ],
      "metadata": {
        "id": "Le4d4AjSUiE3",
        "colab": {
          "base_uri": "https://localhost:8080/"
        },
        "outputId": "e4a05e3f-bbe4-4d3a-caca-e772b02db082"
      },
      "execution_count": null,
      "outputs": [
        {
          "output_type": "stream",
          "name": "stdout",
          "text": [
            "\n",
            " Predicted Summary :  scientists make alliance with scientists predict fear\n"
          ]
        }
      ]
    },
    {
      "cell_type": "code",
      "source": [
        "text = \"\"\"\n",
        "In the Star Trek universe, the USS Enterprise, commanded by Captain James T. Kirk and later Captain Jean-Luc Picard, embarked on exploratory missions across the galaxy. They encountered alien civilizations like the Klingons, Romulans, and Borg, forging alliances and facing conflicts. With technology like warp drive and transporters, they boldly went where no one had gone before, embodying the spirit of curiosity and cooperation.USS Enterprise, Captain James T. Kirk, Captain Jean-Luc Picard, Klingons, Romulans, Borg.USS Enterprise, Captain James T. Kirk, Captain Jean-Luc Picard, Klingons, Romulans, Borg.\"\"\"\n",
        "\n",
        "summary = summarize(text)\n",
        "\n",
        "print(\"\\n Predicted Summary : \", summary)"
      ],
      "metadata": {
        "id": "cacl7t7OyhTh",
        "colab": {
          "base_uri": "https://localhost:8080/"
        },
        "outputId": "f820055a-1cd1-4728-d075-d2e4160c9739"
      },
      "execution_count": null,
      "outputs": [
        {
          "output_type": "stream",
          "name": "stdout",
          "text": [
            "\n",
            " Predicted Summary :  american man can t game developed\n"
          ]
        }
      ]
    },
    {
      "cell_type": "code",
      "source": [
        "text = \"\"\"\n",
        "In the world of Greek mythology, Zeus, Poseidon, Hades, and Athena were powerful gods who ruled over the heavens, seas, underworld, and wisdom respectively. Their actions and conflicts shaped the myths of ancient Greece, involving epic tales of heroes like Hercules, Perseus, and Odysseus. These myths continue to captivate imaginations, exploring themes of power, destiny, and the human condition.\"\"\"\n",
        "\n",
        "summary = summarize(text)\n",
        "\n",
        "print(\"\\n Predicted Summary : \", summary)"
      ],
      "metadata": {
        "id": "Nz8Ua6AugAaZ",
        "colab": {
          "base_uri": "https://localhost:8080/"
        },
        "outputId": "aba67c30-cbef-4b58-fc9e-fe381932f921"
      },
      "execution_count": null,
      "outputs": [
        {
          "output_type": "stream",
          "name": "stdout",
          "text": [
            "\n",
            " Predicted Summary :  greece changes four former species\n"
          ]
        }
      ]
    },
    {
      "cell_type": "code",
      "source": [
        "text = \"\"\"\n",
        "In the world of Greek mythology, Zeus, Poseidon, Hades, and Athena were powerful gods who ruled over the heavens, seas, underworld, and wisdom respectively. Their actions and conflicts shaped the myths of ancient Greece, involving epic tales of heroes like Hercules, Perseus, and Odysseus. These myths continue to captivate imaginations, exploring themes of power, destiny, and the human condition.Zeus, Poseidon, Hades, Athena, Hercules, Perseus, Odysseus.Zeus, Poseidon, Hades, Athena, Hercules, Perseus, Odysseus.Zeus, Poseidon, Hades, Athena, Hercules, Perseus, Odysseus.\"\"\"\n",
        "\n",
        "summary = summarize(text)\n",
        "\n",
        "print(\"\\n Predicted Summary : \", summary)"
      ],
      "metadata": {
        "id": "5Fii9Vw1gAVH",
        "colab": {
          "base_uri": "https://localhost:8080/"
        },
        "outputId": "a3ee05b2-db20-4b5b-e802-af871f033619"
      },
      "execution_count": null,
      "outputs": [
        {
          "output_type": "stream",
          "name": "stdout",
          "text": [
            "\n",
            " Predicted Summary :  greece makes leaves based 80 powerful force\n"
          ]
        }
      ]
    },
    {
      "cell_type": "code",
      "source": [
        "text = \"\"\"\n",
        "In the wizarding world of Harry Potter, Hogwarts School of Witchcraft and Wizardry stood as a beacon of magical education. Harry Potter, along with his friends Hermione Granger and Ron Weasley, navigated their years at Hogwarts, facing challenges from dark forces like Lord Voldemort and his Death Eaters. They were guided by mentors like Albus Dumbledore and Severus Snape, and aided by allies such as Sirius Black, Remus Lupin, and the Order of the Phoenix. Their adventures took them to magical places like Diagon Alley, Hogsmeade, and the Forbidden Forest, where they encountered creatures like Hippogriffs, Dementors, and the Hungarian Horntail dragon. Through courage, friendship, and the power of love, they triumphed over evil and restored peace to the wizarding world.\"\"\"\n",
        "\n",
        "summary = summarize(text)\n",
        "\n",
        "print(\"\\n Predicted Summary : \", summary)"
      ],
      "metadata": {
        "id": "4Da9H3ANgAG5",
        "colab": {
          "base_uri": "https://localhost:8080/"
        },
        "outputId": "feb8cd28-bab3-432c-9bb0-13a2ec9a3536"
      },
      "execution_count": null,
      "outputs": [
        {
          "output_type": "stream",
          "name": "stdout",
          "text": [
            "\n",
            " Predicted Summary :  new harry potter themed school syllabus\n"
          ]
        }
      ]
    },
    {
      "cell_type": "code",
      "source": [
        "text = \"\"\"\n",
        "In the wizarding world of Harry Potter, Hogwarts School of Witchcraft and Wizardry stood as a beacon of magical education. Harry Potter, along with his friends Hermione Granger and Ron Weasley, navigated their years at Hogwarts, facing challenges from dark forces like Lord Voldemort and his Death Eaters. They were guided by mentors like Albus Dumbledore and Severus Snape, and aided by allies such as Sirius Black, Remus Lupin, and the Order of the Phoenix. Their adventures took them to magical places like Diagon Alley, Hogsmeade, and the Forbidden Forest, where they encountered creatures like Hippogriffs, Dementors, and the Hungarian Horntail dragon. Through courage, friendship, and the power of love, they triumphed over evil and restored peace to the wizarding world.Hogwarts School of Witchcraft and Wizardry, Harry Potter, Hermione Granger, Ron Weasley, Lord Voldemort, Death Eaters, Albus Dumbledore, Severus SnapeHogwarts School of Witchcraft and Wizardry, Harry Potter, Hermione Granger, Ron Weasley, Lord Voldemort, Death Eaters, Albus Dumbledore, Severus Snape\"\"\"\n",
        "\n",
        "summary = summarize(text)\n",
        "\n",
        "print(\"\\n Predicted Summary : \", summary)"
      ],
      "metadata": {
        "id": "7_2zh-hCf_8Q",
        "colab": {
          "base_uri": "https://localhost:8080/"
        },
        "outputId": "ffbe8d27-a6f5-425e-b13f-b78ef8e3b7ac"
      },
      "execution_count": null,
      "outputs": [
        {
          "output_type": "stream",
          "name": "stdout",
          "text": [
            "\n",
            " Predicted Summary :  new harry potter themed school syllabus\n"
          ]
        }
      ]
    },
    {
      "cell_type": "code",
      "source": [
        "text = \"\"\"\n",
        "In the world of Marvel comics, the Avengers, including Iron Man, Captain America, Thor, Black Widow, and Hulk, united to protect Earth from threats like Loki, Ultron, and Thanos. They collaborated with allies such as S.H.I.E.L.D., Nick Fury, and the Guardians of the Galaxy. Their battles spanned iconic locations like New York City, Asgard, and Wakanda, showcasing their superpowers and unwavering determination to defend humanity\"\"\"\n",
        "\n",
        "summary = summarize(text)\n",
        "\n",
        "print(\"\\n Predicted Summary : \", summary)"
      ],
      "metadata": {
        "id": "ulKWX28tgD8B",
        "colab": {
          "base_uri": "https://localhost:8080/"
        },
        "outputId": "6452efe4-92c1-4c61-ad70-63cc607e617a"
      },
      "execution_count": null,
      "outputs": [
        {
          "output_type": "stream",
          "name": "stdout",
          "text": [
            "\n",
            " Predicted Summary :  new spider man plays guitar in the united states\n"
          ]
        }
      ]
    },
    {
      "cell_type": "code",
      "source": [
        "text = \"\"\"\n",
        "In the world of Marvel comics, the Avengers, including Iron Man, Captain America, Thor, Black Widow, and Hulk, united to protect Earth from threats like Loki, Ultron, and Thanos. They collaborated with allies such as S.H.I.E.L.D., Nick Fury, and the Guardians of the Galaxy. Their battles spanned iconic locations like New York City, Asgard, and Wakanda, showcasing their superpowers and unwavering determination to defend humanity.Avengers, Iron Man, Captain America, Thor, Black Widow, Hulk, Loki, Ultron, ThanosAvengers, Iron Man, Captain America, Thor, Black Widow, Hulk, Loki, Ultron, Thanos\"\"\"\n",
        "\n",
        "summary = summarize(text)\n",
        "\n",
        "print(\"\\n Predicted Summary : \", summary)"
      ],
      "metadata": {
        "id": "VTvisKY4gD2N",
        "colab": {
          "base_uri": "https://localhost:8080/"
        },
        "outputId": "ca6dab38-294a-4400-8921-f47c1db337a8"
      },
      "execution_count": null,
      "outputs": [
        {
          "output_type": "stream",
          "name": "stdout",
          "text": [
            "\n",
            " Predicted Summary :  us man plays moon as terror threat\n"
          ]
        }
      ]
    },
    {
      "cell_type": "code",
      "source": [
        "text = \"\"\"\n",
        "In the world of literature, Sherlock Holmes, a brilliant detective created by Sir Arthur Conan Doyle, solved mysteries alongside his trusted companion Dr. John Watson. Together, they tackled cases involving notable characters like Professor Moriarty, Irene Adler, and the Hound of the Baskervilles. Their adventures took place in iconic settings such as 221B Baker Street, the streets of London, and the moors of Dartmoor, showcasing Holmes' deductive prowess and Watson's steadfast loyalty\"\"\"\n",
        "\n",
        "summary = summarize(text)\n",
        "\n",
        "print(\"\\n Predicted Summary : \", summary)"
      ],
      "metadata": {
        "id": "XzVQcwfEgDvu",
        "colab": {
          "base_uri": "https://localhost:8080/"
        },
        "outputId": "4e607ae4-3a3f-4c3f-b212-eda8e8a04d1b"
      },
      "execution_count": null,
      "outputs": [
        {
          "output_type": "stream",
          "name": "stdout",
          "text": [
            "\n",
            " Predicted Summary :  british author developed as community\n"
          ]
        }
      ]
    },
    {
      "cell_type": "code",
      "source": [
        "text = \"\"\"\n",
        "In the world of literature, Sherlock Holmes, a brilliant detective created by Sir Arthur Conan Doyle, solved mysteries alongside his trusted companion Dr. John Watson. Together, they tackled cases involving notable characters like Professor Moriarty, Irene Adler, and the Hound of the Baskervilles. Their adventures took place in iconic settings such as 221B Baker Street, the streets of London, and the moors of Dartmoor, showcasing Holmes' deductive prowess and Watson's steadfast loyalty. Sherlock Holmes, Sir Arthur Conan Doyle, Dr. John Watson, Professor Moriarty. Sherlock Holmes, Sir Arthur Conan Doyle, Dr. John Watson, Professor Moriarty\"\"\"\n",
        "\n",
        "summary = summarize(text)\n",
        "\n",
        "print(\"\\n Predicted Summary : \", summary)"
      ],
      "metadata": {
        "id": "Z5vWU2nVhTrC",
        "colab": {
          "base_uri": "https://localhost:8080/"
        },
        "outputId": "f4c65e2c-5832-40ec-d7a1-54a1f53c7d9b"
      },
      "execution_count": null,
      "outputs": [
        {
          "output_type": "stream",
          "name": "stdout",
          "text": [
            "\n",
            " Predicted Summary :  hsbc posts ar based duo with card\n"
          ]
        }
      ]
    },
    {
      "cell_type": "code",
      "source": [
        "text = \"\"\"\n",
        "\n",
        "In the bustling city of New York, renowned fashion designer Alexander Wang unveiled his latest collection at a star-studded event attended by celebrities like Jennifer Lawrence and Leonardo DiCaprio. The luxurious soirée, held at the iconic Plaza Hotel, featured performances by Grammy-winning artist Beyoncé and DJ sensation Calvin Harris, making it a night to remember in the world of haute couture.\"\"\"\n",
        "summary = summarize(text)\n",
        "\n",
        "print(\"\\n Predicted Summary : \", summary)"
      ],
      "metadata": {
        "id": "__Xgqg5tOG9L",
        "colab": {
          "base_uri": "https://localhost:8080/"
        },
        "outputId": "a9437ee0-4c3d-4db6-ce72-131258326b49"
      },
      "execution_count": null,
      "outputs": [
        {
          "output_type": "stream",
          "name": "stdout",
          "text": [
            "\n",
            " Predicted Summary :  designer creates designer with sridevi s 90th b wood\n"
          ]
        }
      ]
    },
    {
      "cell_type": "code",
      "source": [
        "text = \"\"\"\n",
        "\n",
        "In the bustling city of New York, renowned fashion designer Alexander Wang unveiled his latest collection at a star-studded event attended by celebrities like Jennifer Lawrence and Leonardo DiCaprio. The luxurious soirée, held at the iconic Plaza Hotel, featured performances by Grammy-winning artist Beyoncé and DJ sensation Calvin Harris, making it a night to remember in the world of haute couture.Jennifer Lawrence, Leonardo DiCaprio, Beyoncé, and Calvin Harris.Jennifer Lawrence, Leonardo DiCaprio, Beyoncé, and Calvin Harris\"\"\"\n",
        "summary = summarize(text)\n",
        "\n",
        "print(\"\\n Predicted Summary : \", summary)"
      ],
      "metadata": {
        "id": "Z4cEr0CpOG5C",
        "colab": {
          "base_uri": "https://localhost:8080/"
        },
        "outputId": "333d5111-fb17-4c0c-a6cf-b927e73abf4b"
      },
      "execution_count": null,
      "outputs": [
        {
          "output_type": "stream",
          "name": "stdout",
          "text": [
            "\n",
            " Predicted Summary :  designer creates designer with sridevi s 90th b wood\n"
          ]
        }
      ]
    }
  ],
  "metadata": {
    "colab": {
      "provenance": [],
      "gpuType": "T4",
      "include_colab_link": true
    },
    "kernelspec": {
      "display_name": "Python 3",
      "name": "python3"
    },
    "language_info": {
      "name": "python"
    },
    "accelerator": "GPU"
  },
  "nbformat": 4,
  "nbformat_minor": 0
}